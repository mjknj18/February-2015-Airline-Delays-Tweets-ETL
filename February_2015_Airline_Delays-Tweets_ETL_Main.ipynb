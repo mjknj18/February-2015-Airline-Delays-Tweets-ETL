{
 "cells": [
  {
   "cell_type": "markdown",
   "metadata": {},
   "source": [
    "# Project Proposal (Matt)"
   ]
  },
  {
   "cell_type": "markdown",
   "metadata": {},
   "source": [
    "The ETL Project involved performing an Extract-Transform-Load (ETL) process on airline flight performance data and customer tweet data from February 2015. The members of the group are Sedra Kurdi, Myles Bridges, Natalie Myers, and Matthew Kennedy. The datasets chosen were found at https://www.kaggle.com/usdot/flight-delays and https://www.kaggle.com/crowdflower/twitter-airline-sentiment, and were in CSV and SQLite format respectively. The approach was to use the SQLAlchemy and Pandas modules in Python to extract and transform the data. SQLAlchemy was then used to load the transformed data into a PostgreSQL database."
   ]
  },
  {
   "cell_type": "markdown",
   "metadata": {},
   "source": [
    "# Project Code"
   ]
  },
  {
   "cell_type": "code",
   "execution_count": 1,
   "metadata": {},
   "outputs": [],
   "source": [
    "import numpy as np\n",
    "import pandas as pd\n",
    "import datetime as dt\n",
    "import sqlalchemy\n",
    "from sqlalchemy.ext.automap import automap_base\n",
    "from sqlalchemy.orm import Session\n",
    "from sqlalchemy import create_engine, inspect, func\n",
    "from sqlalchemy import Table, Column, Integer, String, MetaData"
   ]
  },
  {
   "cell_type": "markdown",
   "metadata": {},
   "source": [
    "## Data Extraction"
   ]
  },
  {
   "cell_type": "markdown",
   "metadata": {},
   "source": [
    "### Flight Data (Myles & Sedra)"
   ]
  },
  {
   "cell_type": "code",
   "execution_count": 2,
   "metadata": {},
   "outputs": [],
   "source": [
    "#ADD CODE HERE"
   ]
  },
  {
   "cell_type": "markdown",
   "metadata": {},
   "source": [
    "### Tweet Data (Natalie)"
   ]
  },
  {
   "cell_type": "code",
   "execution_count": 3,
   "metadata": {},
   "outputs": [],
   "source": [
    "sqlite_engine = create_engine(\"sqlite:///Tweet_Data/database.sqlite\")"
   ]
  },
  {
   "cell_type": "code",
   "execution_count": 4,
   "metadata": {},
   "outputs": [
    {
     "data": {
      "text/plain": [
       "['Tweets']"
      ]
     },
     "execution_count": 4,
     "metadata": {},
     "output_type": "execute_result"
    }
   ],
   "source": [
    "inspector = inspect(sqlite_engine)\n",
    "inspector.get_table_names()"
   ]
  },
  {
   "cell_type": "code",
   "execution_count": 5,
   "metadata": {},
   "outputs": [
    {
     "data": {
      "text/html": [
       "<div>\n",
       "<style scoped>\n",
       "    .dataframe tbody tr th:only-of-type {\n",
       "        vertical-align: middle;\n",
       "    }\n",
       "\n",
       "    .dataframe tbody tr th {\n",
       "        vertical-align: top;\n",
       "    }\n",
       "\n",
       "    .dataframe thead th {\n",
       "        text-align: right;\n",
       "    }\n",
       "</style>\n",
       "<table border=\"1\" class=\"dataframe\">\n",
       "  <thead>\n",
       "    <tr style=\"text-align: right;\">\n",
       "      <th></th>\n",
       "      <th>tweet_id</th>\n",
       "      <th>airline_sentiment</th>\n",
       "      <th>airline_sentiment_confidence</th>\n",
       "      <th>negativereason</th>\n",
       "      <th>negativereason_confidence</th>\n",
       "      <th>airline</th>\n",
       "      <th>airline_sentiment_gold</th>\n",
       "      <th>name</th>\n",
       "      <th>negativereason_gold</th>\n",
       "      <th>retweet_count</th>\n",
       "      <th>text</th>\n",
       "      <th>tweet_coord</th>\n",
       "      <th>tweet_created</th>\n",
       "      <th>tweet_location</th>\n",
       "      <th>user_timezone</th>\n",
       "    </tr>\n",
       "  </thead>\n",
       "  <tbody>\n",
       "    <tr>\n",
       "      <th>0</th>\n",
       "      <td>567588278875213824</td>\n",
       "      <td>neutral</td>\n",
       "      <td>1.0000</td>\n",
       "      <td></td>\n",
       "      <td></td>\n",
       "      <td>Delta</td>\n",
       "      <td></td>\n",
       "      <td>JetBlueNews</td>\n",
       "      <td></td>\n",
       "      <td>0</td>\n",
       "      <td>@JetBlue's new CEO seeks the right balance to ...</td>\n",
       "      <td></td>\n",
       "      <td>2015-02-16 23:36:05 -0800</td>\n",
       "      <td>USA</td>\n",
       "      <td>Sydney</td>\n",
       "    </tr>\n",
       "    <tr>\n",
       "      <th>1</th>\n",
       "      <td>567590027375702016</td>\n",
       "      <td>negative</td>\n",
       "      <td>1.0000</td>\n",
       "      <td>Can't Tell</td>\n",
       "      <td>0.6503</td>\n",
       "      <td>Delta</td>\n",
       "      <td></td>\n",
       "      <td>nesi_1992</td>\n",
       "      <td></td>\n",
       "      <td>0</td>\n",
       "      <td>@JetBlue is REALLY getting on my nerves !! 😡😡 ...</td>\n",
       "      <td></td>\n",
       "      <td>2015-02-16 23:43:02 -0800</td>\n",
       "      <td>undecided</td>\n",
       "      <td>Pacific Time (US &amp; Canada)</td>\n",
       "    </tr>\n",
       "    <tr>\n",
       "      <th>2</th>\n",
       "      <td>567591480085463040</td>\n",
       "      <td>negative</td>\n",
       "      <td>1.0000</td>\n",
       "      <td>Late Flight</td>\n",
       "      <td>0.346</td>\n",
       "      <td>United</td>\n",
       "      <td></td>\n",
       "      <td>CPoutloud</td>\n",
       "      <td></td>\n",
       "      <td>0</td>\n",
       "      <td>@united yes. We waited in line for almost an h...</td>\n",
       "      <td></td>\n",
       "      <td>2015-02-16 23:48:48 -0800</td>\n",
       "      <td>Washington, DC</td>\n",
       "      <td></td>\n",
       "    </tr>\n",
       "    <tr>\n",
       "      <th>3</th>\n",
       "      <td>567592368451248130</td>\n",
       "      <td>negative</td>\n",
       "      <td>1.0000</td>\n",
       "      <td>Late Flight</td>\n",
       "      <td>1</td>\n",
       "      <td>United</td>\n",
       "      <td></td>\n",
       "      <td>brenduch</td>\n",
       "      <td></td>\n",
       "      <td>0</td>\n",
       "      <td>@united the we got into the gate at IAH on tim...</td>\n",
       "      <td></td>\n",
       "      <td>2015-02-16 23:52:20 -0800</td>\n",
       "      <td></td>\n",
       "      <td>Buenos Aires</td>\n",
       "    </tr>\n",
       "    <tr>\n",
       "      <th>4</th>\n",
       "      <td>567594449874587648</td>\n",
       "      <td>negative</td>\n",
       "      <td>1.0000</td>\n",
       "      <td>Customer Service Issue</td>\n",
       "      <td>0.3451</td>\n",
       "      <td>Southwest</td>\n",
       "      <td></td>\n",
       "      <td>VahidESQ</td>\n",
       "      <td></td>\n",
       "      <td>0</td>\n",
       "      <td>@SouthwestAir its cool that my bags take a bit...</td>\n",
       "      <td></td>\n",
       "      <td>2015-02-17 00:00:36 -0800</td>\n",
       "      <td>Los Angeles, CA</td>\n",
       "      <td>Pacific Time (US &amp; Canada)</td>\n",
       "    </tr>\n",
       "    <tr>\n",
       "      <th>...</th>\n",
       "      <td>...</td>\n",
       "      <td>...</td>\n",
       "      <td>...</td>\n",
       "      <td>...</td>\n",
       "      <td>...</td>\n",
       "      <td>...</td>\n",
       "      <td>...</td>\n",
       "      <td>...</td>\n",
       "      <td>...</td>\n",
       "      <td>...</td>\n",
       "      <td>...</td>\n",
       "      <td>...</td>\n",
       "      <td>...</td>\n",
       "      <td>...</td>\n",
       "      <td>...</td>\n",
       "    </tr>\n",
       "    <tr>\n",
       "      <th>14480</th>\n",
       "      <td>570309308937842688</td>\n",
       "      <td>neutral</td>\n",
       "      <td>0.6869</td>\n",
       "      <td></td>\n",
       "      <td></td>\n",
       "      <td>Delta</td>\n",
       "      <td></td>\n",
       "      <td>Oneladyyouadore</td>\n",
       "      <td></td>\n",
       "      <td>0</td>\n",
       "      <td>@JetBlue I hope so because I fly very often an...</td>\n",
       "      <td></td>\n",
       "      <td>2015-02-24 11:48:29 -0800</td>\n",
       "      <td>Georgia</td>\n",
       "      <td>Quito</td>\n",
       "    </tr>\n",
       "    <tr>\n",
       "      <th>14481</th>\n",
       "      <td>570309340952993796</td>\n",
       "      <td>neutral</td>\n",
       "      <td>1.0000</td>\n",
       "      <td></td>\n",
       "      <td></td>\n",
       "      <td>US Airways</td>\n",
       "      <td></td>\n",
       "      <td>DebbiMcGinnis</td>\n",
       "      <td></td>\n",
       "      <td>0</td>\n",
       "      <td>@USAirways is a DM possible if you aren't foll...</td>\n",
       "      <td></td>\n",
       "      <td>2015-02-24 11:48:37 -0800</td>\n",
       "      <td>Missourah</td>\n",
       "      <td>Hawaii</td>\n",
       "    </tr>\n",
       "    <tr>\n",
       "      <th>14482</th>\n",
       "      <td>570309345281486848</td>\n",
       "      <td>positive</td>\n",
       "      <td>0.6469</td>\n",
       "      <td></td>\n",
       "      <td></td>\n",
       "      <td>Delta</td>\n",
       "      <td></td>\n",
       "      <td>jaxbra</td>\n",
       "      <td></td>\n",
       "      <td>0</td>\n",
       "      <td>@JetBlue Yesterday on my way from EWR to FLL j...</td>\n",
       "      <td></td>\n",
       "      <td>2015-02-24 11:48:38 -0800</td>\n",
       "      <td>east brunswick, nj</td>\n",
       "      <td>Atlantic Time (Canada)</td>\n",
       "    </tr>\n",
       "    <tr>\n",
       "      <th>14483</th>\n",
       "      <td>570310144459972608</td>\n",
       "      <td>negative</td>\n",
       "      <td>1.0000</td>\n",
       "      <td>Customer Service Issue</td>\n",
       "      <td>1</td>\n",
       "      <td>US Airways</td>\n",
       "      <td></td>\n",
       "      <td>GAKotsch</td>\n",
       "      <td></td>\n",
       "      <td>0</td>\n",
       "      <td>@USAirways and when will one of these agents b...</td>\n",
       "      <td></td>\n",
       "      <td>2015-02-24 11:51:48 -0800</td>\n",
       "      <td></td>\n",
       "      <td>Atlantic Time (Canada)</td>\n",
       "    </tr>\n",
       "    <tr>\n",
       "      <th>14484</th>\n",
       "      <td>570310600460525568</td>\n",
       "      <td>negative</td>\n",
       "      <td>0.6292</td>\n",
       "      <td>Flight Booking Problems</td>\n",
       "      <td>0.3146</td>\n",
       "      <td>US Airways</td>\n",
       "      <td></td>\n",
       "      <td>jhazelnut</td>\n",
       "      <td></td>\n",
       "      <td>0</td>\n",
       "      <td>@USAirways  is there a better time to call? My...</td>\n",
       "      <td></td>\n",
       "      <td>2015-02-24 11:53:37 -0800</td>\n",
       "      <td></td>\n",
       "      <td></td>\n",
       "    </tr>\n",
       "  </tbody>\n",
       "</table>\n",
       "<p>14485 rows × 15 columns</p>\n",
       "</div>"
      ],
      "text/plain": [
       "                 tweet_id airline_sentiment  airline_sentiment_confidence  \\\n",
       "0      567588278875213824           neutral                        1.0000   \n",
       "1      567590027375702016          negative                        1.0000   \n",
       "2      567591480085463040          negative                        1.0000   \n",
       "3      567592368451248130          negative                        1.0000   \n",
       "4      567594449874587648          negative                        1.0000   \n",
       "...                   ...               ...                           ...   \n",
       "14480  570309308937842688           neutral                        0.6869   \n",
       "14481  570309340952993796           neutral                        1.0000   \n",
       "14482  570309345281486848          positive                        0.6469   \n",
       "14483  570310144459972608          negative                        1.0000   \n",
       "14484  570310600460525568          negative                        0.6292   \n",
       "\n",
       "                negativereason negativereason_confidence     airline  \\\n",
       "0                                                              Delta   \n",
       "1                   Can't Tell                    0.6503       Delta   \n",
       "2                  Late Flight                     0.346      United   \n",
       "3                  Late Flight                         1      United   \n",
       "4       Customer Service Issue                    0.3451   Southwest   \n",
       "...                        ...                       ...         ...   \n",
       "14480                                                          Delta   \n",
       "14481                                                     US Airways   \n",
       "14482                                                          Delta   \n",
       "14483   Customer Service Issue                         1  US Airways   \n",
       "14484  Flight Booking Problems                    0.3146  US Airways   \n",
       "\n",
       "      airline_sentiment_gold             name negativereason_gold  \\\n",
       "0                                 JetBlueNews                       \n",
       "1                                   nesi_1992                       \n",
       "2                                   CPoutloud                       \n",
       "3                                    brenduch                       \n",
       "4                                    VahidESQ                       \n",
       "...                      ...              ...                 ...   \n",
       "14480                         Oneladyyouadore                       \n",
       "14481                           DebbiMcGinnis                       \n",
       "14482                                  jaxbra                       \n",
       "14483                                GAKotsch                       \n",
       "14484                               jhazelnut                       \n",
       "\n",
       "       retweet_count                                               text  \\\n",
       "0                  0  @JetBlue's new CEO seeks the right balance to ...   \n",
       "1                  0  @JetBlue is REALLY getting on my nerves !! 😡😡 ...   \n",
       "2                  0  @united yes. We waited in line for almost an h...   \n",
       "3                  0  @united the we got into the gate at IAH on tim...   \n",
       "4                  0  @SouthwestAir its cool that my bags take a bit...   \n",
       "...              ...                                                ...   \n",
       "14480              0  @JetBlue I hope so because I fly very often an...   \n",
       "14481              0  @USAirways is a DM possible if you aren't foll...   \n",
       "14482              0  @JetBlue Yesterday on my way from EWR to FLL j...   \n",
       "14483              0  @USAirways and when will one of these agents b...   \n",
       "14484              0  @USAirways  is there a better time to call? My...   \n",
       "\n",
       "      tweet_coord              tweet_created      tweet_location  \\\n",
       "0                  2015-02-16 23:36:05 -0800                 USA   \n",
       "1                  2015-02-16 23:43:02 -0800           undecided   \n",
       "2                  2015-02-16 23:48:48 -0800      Washington, DC   \n",
       "3                  2015-02-16 23:52:20 -0800                       \n",
       "4                  2015-02-17 00:00:36 -0800     Los Angeles, CA   \n",
       "...           ...                        ...                 ...   \n",
       "14480              2015-02-24 11:48:29 -0800             Georgia   \n",
       "14481              2015-02-24 11:48:37 -0800           Missourah   \n",
       "14482              2015-02-24 11:48:38 -0800  east brunswick, nj   \n",
       "14483              2015-02-24 11:51:48 -0800                       \n",
       "14484              2015-02-24 11:53:37 -0800                       \n",
       "\n",
       "                    user_timezone  \n",
       "0                          Sydney  \n",
       "1      Pacific Time (US & Canada)  \n",
       "2                                  \n",
       "3                    Buenos Aires  \n",
       "4      Pacific Time (US & Canada)  \n",
       "...                           ...  \n",
       "14480                       Quito  \n",
       "14481                      Hawaii  \n",
       "14482      Atlantic Time (Canada)  \n",
       "14483      Atlantic Time (Canada)  \n",
       "14484                              \n",
       "\n",
       "[14485 rows x 15 columns]"
      ]
     },
     "execution_count": 5,
     "metadata": {},
     "output_type": "execute_result"
    }
   ],
   "source": [
    "data_tweets = pd.read_sql_table('Tweets',sqlite_engine)\n",
    "\n",
    "data_tweets"
   ]
  },
  {
   "cell_type": "markdown",
   "metadata": {},
   "source": [
    "## Data Transformation"
   ]
  },
  {
   "cell_type": "markdown",
   "metadata": {},
   "source": [
    "### Flight Data (Myles & Sedra)"
   ]
  },
  {
   "cell_type": "code",
   "execution_count": 6,
   "metadata": {},
   "outputs": [],
   "source": [
    "#ADD CODE HERE"
   ]
  },
  {
   "cell_type": "markdown",
   "metadata": {},
   "source": [
    "### Tweet Data (Natalie)"
   ]
  },
  {
   "cell_type": "code",
   "execution_count": 7,
   "metadata": {},
   "outputs": [
    {
     "data": {
      "text/html": [
       "<div>\n",
       "<style scoped>\n",
       "    .dataframe tbody tr th:only-of-type {\n",
       "        vertical-align: middle;\n",
       "    }\n",
       "\n",
       "    .dataframe tbody tr th {\n",
       "        vertical-align: top;\n",
       "    }\n",
       "\n",
       "    .dataframe thead th {\n",
       "        text-align: right;\n",
       "    }\n",
       "</style>\n",
       "<table border=\"1\" class=\"dataframe\">\n",
       "  <thead>\n",
       "    <tr style=\"text-align: right;\">\n",
       "      <th></th>\n",
       "      <th>tweet_id</th>\n",
       "      <th>airline_sentiment</th>\n",
       "      <th>airline_sentiment_confidence</th>\n",
       "      <th>airline</th>\n",
       "      <th>name</th>\n",
       "      <th>retweet_count</th>\n",
       "      <th>text</th>\n",
       "      <th>tweet_created</th>\n",
       "    </tr>\n",
       "  </thead>\n",
       "  <tbody>\n",
       "    <tr>\n",
       "      <th>0</th>\n",
       "      <td>567588278875213824</td>\n",
       "      <td>neutral</td>\n",
       "      <td>1.0000</td>\n",
       "      <td>Delta</td>\n",
       "      <td>JetBlueNews</td>\n",
       "      <td>0</td>\n",
       "      <td>@JetBlue's new CEO seeks the right balance to ...</td>\n",
       "      <td>2015-02-16 23:36:05 -0800</td>\n",
       "    </tr>\n",
       "    <tr>\n",
       "      <th>1</th>\n",
       "      <td>567590027375702016</td>\n",
       "      <td>negative</td>\n",
       "      <td>1.0000</td>\n",
       "      <td>Delta</td>\n",
       "      <td>nesi_1992</td>\n",
       "      <td>0</td>\n",
       "      <td>@JetBlue is REALLY getting on my nerves !! 😡😡 ...</td>\n",
       "      <td>2015-02-16 23:43:02 -0800</td>\n",
       "    </tr>\n",
       "    <tr>\n",
       "      <th>2</th>\n",
       "      <td>567591480085463040</td>\n",
       "      <td>negative</td>\n",
       "      <td>1.0000</td>\n",
       "      <td>United</td>\n",
       "      <td>CPoutloud</td>\n",
       "      <td>0</td>\n",
       "      <td>@united yes. We waited in line for almost an h...</td>\n",
       "      <td>2015-02-16 23:48:48 -0800</td>\n",
       "    </tr>\n",
       "    <tr>\n",
       "      <th>3</th>\n",
       "      <td>567592368451248130</td>\n",
       "      <td>negative</td>\n",
       "      <td>1.0000</td>\n",
       "      <td>United</td>\n",
       "      <td>brenduch</td>\n",
       "      <td>0</td>\n",
       "      <td>@united the we got into the gate at IAH on tim...</td>\n",
       "      <td>2015-02-16 23:52:20 -0800</td>\n",
       "    </tr>\n",
       "    <tr>\n",
       "      <th>4</th>\n",
       "      <td>567594449874587648</td>\n",
       "      <td>negative</td>\n",
       "      <td>1.0000</td>\n",
       "      <td>Southwest</td>\n",
       "      <td>VahidESQ</td>\n",
       "      <td>0</td>\n",
       "      <td>@SouthwestAir its cool that my bags take a bit...</td>\n",
       "      <td>2015-02-17 00:00:36 -0800</td>\n",
       "    </tr>\n",
       "    <tr>\n",
       "      <th>...</th>\n",
       "      <td>...</td>\n",
       "      <td>...</td>\n",
       "      <td>...</td>\n",
       "      <td>...</td>\n",
       "      <td>...</td>\n",
       "      <td>...</td>\n",
       "      <td>...</td>\n",
       "      <td>...</td>\n",
       "    </tr>\n",
       "    <tr>\n",
       "      <th>14480</th>\n",
       "      <td>570309308937842688</td>\n",
       "      <td>neutral</td>\n",
       "      <td>0.6869</td>\n",
       "      <td>Delta</td>\n",
       "      <td>Oneladyyouadore</td>\n",
       "      <td>0</td>\n",
       "      <td>@JetBlue I hope so because I fly very often an...</td>\n",
       "      <td>2015-02-24 11:48:29 -0800</td>\n",
       "    </tr>\n",
       "    <tr>\n",
       "      <th>14481</th>\n",
       "      <td>570309340952993796</td>\n",
       "      <td>neutral</td>\n",
       "      <td>1.0000</td>\n",
       "      <td>US Airways</td>\n",
       "      <td>DebbiMcGinnis</td>\n",
       "      <td>0</td>\n",
       "      <td>@USAirways is a DM possible if you aren't foll...</td>\n",
       "      <td>2015-02-24 11:48:37 -0800</td>\n",
       "    </tr>\n",
       "    <tr>\n",
       "      <th>14482</th>\n",
       "      <td>570309345281486848</td>\n",
       "      <td>positive</td>\n",
       "      <td>0.6469</td>\n",
       "      <td>Delta</td>\n",
       "      <td>jaxbra</td>\n",
       "      <td>0</td>\n",
       "      <td>@JetBlue Yesterday on my way from EWR to FLL j...</td>\n",
       "      <td>2015-02-24 11:48:38 -0800</td>\n",
       "    </tr>\n",
       "    <tr>\n",
       "      <th>14483</th>\n",
       "      <td>570310144459972608</td>\n",
       "      <td>negative</td>\n",
       "      <td>1.0000</td>\n",
       "      <td>US Airways</td>\n",
       "      <td>GAKotsch</td>\n",
       "      <td>0</td>\n",
       "      <td>@USAirways and when will one of these agents b...</td>\n",
       "      <td>2015-02-24 11:51:48 -0800</td>\n",
       "    </tr>\n",
       "    <tr>\n",
       "      <th>14484</th>\n",
       "      <td>570310600460525568</td>\n",
       "      <td>negative</td>\n",
       "      <td>0.6292</td>\n",
       "      <td>US Airways</td>\n",
       "      <td>jhazelnut</td>\n",
       "      <td>0</td>\n",
       "      <td>@USAirways  is there a better time to call? My...</td>\n",
       "      <td>2015-02-24 11:53:37 -0800</td>\n",
       "    </tr>\n",
       "  </tbody>\n",
       "</table>\n",
       "<p>14485 rows × 8 columns</p>\n",
       "</div>"
      ],
      "text/plain": [
       "                 tweet_id airline_sentiment  airline_sentiment_confidence  \\\n",
       "0      567588278875213824           neutral                        1.0000   \n",
       "1      567590027375702016          negative                        1.0000   \n",
       "2      567591480085463040          negative                        1.0000   \n",
       "3      567592368451248130          negative                        1.0000   \n",
       "4      567594449874587648          negative                        1.0000   \n",
       "...                   ...               ...                           ...   \n",
       "14480  570309308937842688           neutral                        0.6869   \n",
       "14481  570309340952993796           neutral                        1.0000   \n",
       "14482  570309345281486848          positive                        0.6469   \n",
       "14483  570310144459972608          negative                        1.0000   \n",
       "14484  570310600460525568          negative                        0.6292   \n",
       "\n",
       "          airline             name  retweet_count  \\\n",
       "0           Delta      JetBlueNews              0   \n",
       "1           Delta        nesi_1992              0   \n",
       "2          United        CPoutloud              0   \n",
       "3          United         brenduch              0   \n",
       "4       Southwest         VahidESQ              0   \n",
       "...           ...              ...            ...   \n",
       "14480       Delta  Oneladyyouadore              0   \n",
       "14481  US Airways    DebbiMcGinnis              0   \n",
       "14482       Delta           jaxbra              0   \n",
       "14483  US Airways         GAKotsch              0   \n",
       "14484  US Airways        jhazelnut              0   \n",
       "\n",
       "                                                    text  \\\n",
       "0      @JetBlue's new CEO seeks the right balance to ...   \n",
       "1      @JetBlue is REALLY getting on my nerves !! 😡😡 ...   \n",
       "2      @united yes. We waited in line for almost an h...   \n",
       "3      @united the we got into the gate at IAH on tim...   \n",
       "4      @SouthwestAir its cool that my bags take a bit...   \n",
       "...                                                  ...   \n",
       "14480  @JetBlue I hope so because I fly very often an...   \n",
       "14481  @USAirways is a DM possible if you aren't foll...   \n",
       "14482  @JetBlue Yesterday on my way from EWR to FLL j...   \n",
       "14483  @USAirways and when will one of these agents b...   \n",
       "14484  @USAirways  is there a better time to call? My...   \n",
       "\n",
       "                   tweet_created  \n",
       "0      2015-02-16 23:36:05 -0800  \n",
       "1      2015-02-16 23:43:02 -0800  \n",
       "2      2015-02-16 23:48:48 -0800  \n",
       "3      2015-02-16 23:52:20 -0800  \n",
       "4      2015-02-17 00:00:36 -0800  \n",
       "...                          ...  \n",
       "14480  2015-02-24 11:48:29 -0800  \n",
       "14481  2015-02-24 11:48:37 -0800  \n",
       "14482  2015-02-24 11:48:38 -0800  \n",
       "14483  2015-02-24 11:51:48 -0800  \n",
       "14484  2015-02-24 11:53:37 -0800  \n",
       "\n",
       "[14485 rows x 8 columns]"
      ]
     },
     "execution_count": 7,
     "metadata": {},
     "output_type": "execute_result"
    }
   ],
   "source": [
    "data_tweets = data_tweets.drop(['negativereason', 'negativereason_confidence', 'airline_sentiment_gold', \n",
    "                                'negativereason_gold', \n",
    "                                'tweet_coord', 'tweet_location', 'user_timezone'],axis=1)\n",
    "data_tweets = data_tweets.dropna()\n",
    "data_tweets.sort_values(\"tweet_created\")\n",
    "data_tweets[\"tweet_id\"] = data_tweets[\"tweet_id\"].astype(str)\n",
    "data_tweets"
   ]
  },
  {
   "cell_type": "code",
   "execution_count": 8,
   "metadata": {},
   "outputs": [
    {
     "data": {
      "text/html": [
       "<div>\n",
       "<style scoped>\n",
       "    .dataframe tbody tr th:only-of-type {\n",
       "        vertical-align: middle;\n",
       "    }\n",
       "\n",
       "    .dataframe tbody tr th {\n",
       "        vertical-align: top;\n",
       "    }\n",
       "\n",
       "    .dataframe thead th {\n",
       "        text-align: right;\n",
       "    }\n",
       "</style>\n",
       "<table border=\"1\" class=\"dataframe\">\n",
       "  <thead>\n",
       "    <tr style=\"text-align: right;\">\n",
       "      <th></th>\n",
       "      <th>tweet_id</th>\n",
       "      <th>airline_sentiment</th>\n",
       "      <th>airline_sentiment_confidence</th>\n",
       "      <th>airline</th>\n",
       "      <th>name</th>\n",
       "      <th>retweet_count</th>\n",
       "      <th>text</th>\n",
       "      <th>tweet_created</th>\n",
       "    </tr>\n",
       "  </thead>\n",
       "  <tbody>\n",
       "    <tr>\n",
       "      <th>0</th>\n",
       "      <td>567588278875213824</td>\n",
       "      <td>neutral</td>\n",
       "      <td>1.0000</td>\n",
       "      <td>DL</td>\n",
       "      <td>JetBlueNews</td>\n",
       "      <td>0</td>\n",
       "      <td>@JetBlue's new CEO seeks the right balance to ...</td>\n",
       "      <td>2015-02-16 23:36:05 -0800</td>\n",
       "    </tr>\n",
       "    <tr>\n",
       "      <th>1</th>\n",
       "      <td>567590027375702016</td>\n",
       "      <td>negative</td>\n",
       "      <td>1.0000</td>\n",
       "      <td>DL</td>\n",
       "      <td>nesi_1992</td>\n",
       "      <td>0</td>\n",
       "      <td>@JetBlue is REALLY getting on my nerves !! 😡😡 ...</td>\n",
       "      <td>2015-02-16 23:43:02 -0800</td>\n",
       "    </tr>\n",
       "    <tr>\n",
       "      <th>2</th>\n",
       "      <td>567591480085463040</td>\n",
       "      <td>negative</td>\n",
       "      <td>1.0000</td>\n",
       "      <td>UA</td>\n",
       "      <td>CPoutloud</td>\n",
       "      <td>0</td>\n",
       "      <td>@united yes. We waited in line for almost an h...</td>\n",
       "      <td>2015-02-16 23:48:48 -0800</td>\n",
       "    </tr>\n",
       "    <tr>\n",
       "      <th>3</th>\n",
       "      <td>567592368451248130</td>\n",
       "      <td>negative</td>\n",
       "      <td>1.0000</td>\n",
       "      <td>UA</td>\n",
       "      <td>brenduch</td>\n",
       "      <td>0</td>\n",
       "      <td>@united the we got into the gate at IAH on tim...</td>\n",
       "      <td>2015-02-16 23:52:20 -0800</td>\n",
       "    </tr>\n",
       "    <tr>\n",
       "      <th>4</th>\n",
       "      <td>567594449874587648</td>\n",
       "      <td>negative</td>\n",
       "      <td>1.0000</td>\n",
       "      <td>WN</td>\n",
       "      <td>VahidESQ</td>\n",
       "      <td>0</td>\n",
       "      <td>@SouthwestAir its cool that my bags take a bit...</td>\n",
       "      <td>2015-02-17 00:00:36 -0800</td>\n",
       "    </tr>\n",
       "    <tr>\n",
       "      <th>...</th>\n",
       "      <td>...</td>\n",
       "      <td>...</td>\n",
       "      <td>...</td>\n",
       "      <td>...</td>\n",
       "      <td>...</td>\n",
       "      <td>...</td>\n",
       "      <td>...</td>\n",
       "      <td>...</td>\n",
       "    </tr>\n",
       "    <tr>\n",
       "      <th>14480</th>\n",
       "      <td>570309308937842688</td>\n",
       "      <td>neutral</td>\n",
       "      <td>0.6869</td>\n",
       "      <td>DL</td>\n",
       "      <td>Oneladyyouadore</td>\n",
       "      <td>0</td>\n",
       "      <td>@JetBlue I hope so because I fly very often an...</td>\n",
       "      <td>2015-02-24 11:48:29 -0800</td>\n",
       "    </tr>\n",
       "    <tr>\n",
       "      <th>14481</th>\n",
       "      <td>570309340952993796</td>\n",
       "      <td>neutral</td>\n",
       "      <td>1.0000</td>\n",
       "      <td>US</td>\n",
       "      <td>DebbiMcGinnis</td>\n",
       "      <td>0</td>\n",
       "      <td>@USAirways is a DM possible if you aren't foll...</td>\n",
       "      <td>2015-02-24 11:48:37 -0800</td>\n",
       "    </tr>\n",
       "    <tr>\n",
       "      <th>14482</th>\n",
       "      <td>570309345281486848</td>\n",
       "      <td>positive</td>\n",
       "      <td>0.6469</td>\n",
       "      <td>DL</td>\n",
       "      <td>jaxbra</td>\n",
       "      <td>0</td>\n",
       "      <td>@JetBlue Yesterday on my way from EWR to FLL j...</td>\n",
       "      <td>2015-02-24 11:48:38 -0800</td>\n",
       "    </tr>\n",
       "    <tr>\n",
       "      <th>14483</th>\n",
       "      <td>570310144459972608</td>\n",
       "      <td>negative</td>\n",
       "      <td>1.0000</td>\n",
       "      <td>US</td>\n",
       "      <td>GAKotsch</td>\n",
       "      <td>0</td>\n",
       "      <td>@USAirways and when will one of these agents b...</td>\n",
       "      <td>2015-02-24 11:51:48 -0800</td>\n",
       "    </tr>\n",
       "    <tr>\n",
       "      <th>14484</th>\n",
       "      <td>570310600460525568</td>\n",
       "      <td>negative</td>\n",
       "      <td>0.6292</td>\n",
       "      <td>US</td>\n",
       "      <td>jhazelnut</td>\n",
       "      <td>0</td>\n",
       "      <td>@USAirways  is there a better time to call? My...</td>\n",
       "      <td>2015-02-24 11:53:37 -0800</td>\n",
       "    </tr>\n",
       "  </tbody>\n",
       "</table>\n",
       "<p>14485 rows × 8 columns</p>\n",
       "</div>"
      ],
      "text/plain": [
       "                 tweet_id airline_sentiment  airline_sentiment_confidence  \\\n",
       "0      567588278875213824           neutral                        1.0000   \n",
       "1      567590027375702016          negative                        1.0000   \n",
       "2      567591480085463040          negative                        1.0000   \n",
       "3      567592368451248130          negative                        1.0000   \n",
       "4      567594449874587648          negative                        1.0000   \n",
       "...                   ...               ...                           ...   \n",
       "14480  570309308937842688           neutral                        0.6869   \n",
       "14481  570309340952993796           neutral                        1.0000   \n",
       "14482  570309345281486848          positive                        0.6469   \n",
       "14483  570310144459972608          negative                        1.0000   \n",
       "14484  570310600460525568          negative                        0.6292   \n",
       "\n",
       "      airline             name  retweet_count  \\\n",
       "0          DL      JetBlueNews              0   \n",
       "1          DL        nesi_1992              0   \n",
       "2          UA        CPoutloud              0   \n",
       "3          UA         brenduch              0   \n",
       "4          WN         VahidESQ              0   \n",
       "...       ...              ...            ...   \n",
       "14480      DL  Oneladyyouadore              0   \n",
       "14481      US    DebbiMcGinnis              0   \n",
       "14482      DL           jaxbra              0   \n",
       "14483      US         GAKotsch              0   \n",
       "14484      US        jhazelnut              0   \n",
       "\n",
       "                                                    text  \\\n",
       "0      @JetBlue's new CEO seeks the right balance to ...   \n",
       "1      @JetBlue is REALLY getting on my nerves !! 😡😡 ...   \n",
       "2      @united yes. We waited in line for almost an h...   \n",
       "3      @united the we got into the gate at IAH on tim...   \n",
       "4      @SouthwestAir its cool that my bags take a bit...   \n",
       "...                                                  ...   \n",
       "14480  @JetBlue I hope so because I fly very often an...   \n",
       "14481  @USAirways is a DM possible if you aren't foll...   \n",
       "14482  @JetBlue Yesterday on my way from EWR to FLL j...   \n",
       "14483  @USAirways and when will one of these agents b...   \n",
       "14484  @USAirways  is there a better time to call? My...   \n",
       "\n",
       "                   tweet_created  \n",
       "0      2015-02-16 23:36:05 -0800  \n",
       "1      2015-02-16 23:43:02 -0800  \n",
       "2      2015-02-16 23:48:48 -0800  \n",
       "3      2015-02-16 23:52:20 -0800  \n",
       "4      2015-02-17 00:00:36 -0800  \n",
       "...                          ...  \n",
       "14480  2015-02-24 11:48:29 -0800  \n",
       "14481  2015-02-24 11:48:37 -0800  \n",
       "14482  2015-02-24 11:48:38 -0800  \n",
       "14483  2015-02-24 11:51:48 -0800  \n",
       "14484  2015-02-24 11:53:37 -0800  \n",
       "\n",
       "[14485 rows x 8 columns]"
      ]
     },
     "execution_count": 8,
     "metadata": {},
     "output_type": "execute_result"
    }
   ],
   "source": [
    "data_tweets['airline'] = data_tweets[\"airline\"].replace(\"United\",\"UA\")\n",
    "data_tweets['airline'] = data_tweets[\"airline\"].replace(\"Delta\",\"DL\")\n",
    "data_tweets['airline'] = data_tweets[\"airline\"].replace(\"Southwest\",\"WN\")\n",
    "data_tweets['airline'] = data_tweets[\"airline\"].replace(\"American\",\"AA\")\n",
    "data_tweets['airline'] = data_tweets[\"airline\"].replace(\"US Airways\",\"US\")\n",
    "data_tweets['airline'] = data_tweets[\"airline\"].replace(\"Virgin America\",\"VX\")\n",
    "data_tweets"
   ]
  },
  {
   "cell_type": "code",
   "execution_count": 9,
   "metadata": {},
   "outputs": [],
   "source": [
    "data_tweets_new = data_tweets['tweet_created'].str.split(\" \",n=2,expand=True)"
   ]
  },
  {
   "cell_type": "code",
   "execution_count": 10,
   "metadata": {},
   "outputs": [
    {
     "data": {
      "text/html": [
       "<div>\n",
       "<style scoped>\n",
       "    .dataframe tbody tr th:only-of-type {\n",
       "        vertical-align: middle;\n",
       "    }\n",
       "\n",
       "    .dataframe tbody tr th {\n",
       "        vertical-align: top;\n",
       "    }\n",
       "\n",
       "    .dataframe thead th {\n",
       "        text-align: right;\n",
       "    }\n",
       "</style>\n",
       "<table border=\"1\" class=\"dataframe\">\n",
       "  <thead>\n",
       "    <tr style=\"text-align: right;\">\n",
       "      <th></th>\n",
       "      <th>tweet_id</th>\n",
       "      <th>airline_sentiment</th>\n",
       "      <th>airline_sentiment_confidence</th>\n",
       "      <th>airline</th>\n",
       "      <th>name</th>\n",
       "      <th>retweet_count</th>\n",
       "      <th>text</th>\n",
       "      <th>tweet_created</th>\n",
       "      <th>tweet_date</th>\n",
       "    </tr>\n",
       "  </thead>\n",
       "  <tbody>\n",
       "    <tr>\n",
       "      <th>0</th>\n",
       "      <td>567588278875213824</td>\n",
       "      <td>neutral</td>\n",
       "      <td>1.0000</td>\n",
       "      <td>DL</td>\n",
       "      <td>JetBlueNews</td>\n",
       "      <td>0</td>\n",
       "      <td>@JetBlue's new CEO seeks the right balance to ...</td>\n",
       "      <td>2015-02-16 23:36:05 -0800</td>\n",
       "      <td>2015-02-16</td>\n",
       "    </tr>\n",
       "    <tr>\n",
       "      <th>1</th>\n",
       "      <td>567590027375702016</td>\n",
       "      <td>negative</td>\n",
       "      <td>1.0000</td>\n",
       "      <td>DL</td>\n",
       "      <td>nesi_1992</td>\n",
       "      <td>0</td>\n",
       "      <td>@JetBlue is REALLY getting on my nerves !! 😡😡 ...</td>\n",
       "      <td>2015-02-16 23:43:02 -0800</td>\n",
       "      <td>2015-02-16</td>\n",
       "    </tr>\n",
       "    <tr>\n",
       "      <th>2</th>\n",
       "      <td>567591480085463040</td>\n",
       "      <td>negative</td>\n",
       "      <td>1.0000</td>\n",
       "      <td>UA</td>\n",
       "      <td>CPoutloud</td>\n",
       "      <td>0</td>\n",
       "      <td>@united yes. We waited in line for almost an h...</td>\n",
       "      <td>2015-02-16 23:48:48 -0800</td>\n",
       "      <td>2015-02-16</td>\n",
       "    </tr>\n",
       "    <tr>\n",
       "      <th>3</th>\n",
       "      <td>567592368451248130</td>\n",
       "      <td>negative</td>\n",
       "      <td>1.0000</td>\n",
       "      <td>UA</td>\n",
       "      <td>brenduch</td>\n",
       "      <td>0</td>\n",
       "      <td>@united the we got into the gate at IAH on tim...</td>\n",
       "      <td>2015-02-16 23:52:20 -0800</td>\n",
       "      <td>2015-02-16</td>\n",
       "    </tr>\n",
       "    <tr>\n",
       "      <th>4</th>\n",
       "      <td>567594449874587648</td>\n",
       "      <td>negative</td>\n",
       "      <td>1.0000</td>\n",
       "      <td>WN</td>\n",
       "      <td>VahidESQ</td>\n",
       "      <td>0</td>\n",
       "      <td>@SouthwestAir its cool that my bags take a bit...</td>\n",
       "      <td>2015-02-17 00:00:36 -0800</td>\n",
       "      <td>2015-02-17</td>\n",
       "    </tr>\n",
       "    <tr>\n",
       "      <th>...</th>\n",
       "      <td>...</td>\n",
       "      <td>...</td>\n",
       "      <td>...</td>\n",
       "      <td>...</td>\n",
       "      <td>...</td>\n",
       "      <td>...</td>\n",
       "      <td>...</td>\n",
       "      <td>...</td>\n",
       "      <td>...</td>\n",
       "    </tr>\n",
       "    <tr>\n",
       "      <th>14480</th>\n",
       "      <td>570309308937842688</td>\n",
       "      <td>neutral</td>\n",
       "      <td>0.6869</td>\n",
       "      <td>DL</td>\n",
       "      <td>Oneladyyouadore</td>\n",
       "      <td>0</td>\n",
       "      <td>@JetBlue I hope so because I fly very often an...</td>\n",
       "      <td>2015-02-24 11:48:29 -0800</td>\n",
       "      <td>2015-02-24</td>\n",
       "    </tr>\n",
       "    <tr>\n",
       "      <th>14481</th>\n",
       "      <td>570309340952993796</td>\n",
       "      <td>neutral</td>\n",
       "      <td>1.0000</td>\n",
       "      <td>US</td>\n",
       "      <td>DebbiMcGinnis</td>\n",
       "      <td>0</td>\n",
       "      <td>@USAirways is a DM possible if you aren't foll...</td>\n",
       "      <td>2015-02-24 11:48:37 -0800</td>\n",
       "      <td>2015-02-24</td>\n",
       "    </tr>\n",
       "    <tr>\n",
       "      <th>14482</th>\n",
       "      <td>570309345281486848</td>\n",
       "      <td>positive</td>\n",
       "      <td>0.6469</td>\n",
       "      <td>DL</td>\n",
       "      <td>jaxbra</td>\n",
       "      <td>0</td>\n",
       "      <td>@JetBlue Yesterday on my way from EWR to FLL j...</td>\n",
       "      <td>2015-02-24 11:48:38 -0800</td>\n",
       "      <td>2015-02-24</td>\n",
       "    </tr>\n",
       "    <tr>\n",
       "      <th>14483</th>\n",
       "      <td>570310144459972608</td>\n",
       "      <td>negative</td>\n",
       "      <td>1.0000</td>\n",
       "      <td>US</td>\n",
       "      <td>GAKotsch</td>\n",
       "      <td>0</td>\n",
       "      <td>@USAirways and when will one of these agents b...</td>\n",
       "      <td>2015-02-24 11:51:48 -0800</td>\n",
       "      <td>2015-02-24</td>\n",
       "    </tr>\n",
       "    <tr>\n",
       "      <th>14484</th>\n",
       "      <td>570310600460525568</td>\n",
       "      <td>negative</td>\n",
       "      <td>0.6292</td>\n",
       "      <td>US</td>\n",
       "      <td>jhazelnut</td>\n",
       "      <td>0</td>\n",
       "      <td>@USAirways  is there a better time to call? My...</td>\n",
       "      <td>2015-02-24 11:53:37 -0800</td>\n",
       "      <td>2015-02-24</td>\n",
       "    </tr>\n",
       "  </tbody>\n",
       "</table>\n",
       "<p>14485 rows × 9 columns</p>\n",
       "</div>"
      ],
      "text/plain": [
       "                 tweet_id airline_sentiment  airline_sentiment_confidence  \\\n",
       "0      567588278875213824           neutral                        1.0000   \n",
       "1      567590027375702016          negative                        1.0000   \n",
       "2      567591480085463040          negative                        1.0000   \n",
       "3      567592368451248130          negative                        1.0000   \n",
       "4      567594449874587648          negative                        1.0000   \n",
       "...                   ...               ...                           ...   \n",
       "14480  570309308937842688           neutral                        0.6869   \n",
       "14481  570309340952993796           neutral                        1.0000   \n",
       "14482  570309345281486848          positive                        0.6469   \n",
       "14483  570310144459972608          negative                        1.0000   \n",
       "14484  570310600460525568          negative                        0.6292   \n",
       "\n",
       "      airline             name  retweet_count  \\\n",
       "0          DL      JetBlueNews              0   \n",
       "1          DL        nesi_1992              0   \n",
       "2          UA        CPoutloud              0   \n",
       "3          UA         brenduch              0   \n",
       "4          WN         VahidESQ              0   \n",
       "...       ...              ...            ...   \n",
       "14480      DL  Oneladyyouadore              0   \n",
       "14481      US    DebbiMcGinnis              0   \n",
       "14482      DL           jaxbra              0   \n",
       "14483      US         GAKotsch              0   \n",
       "14484      US        jhazelnut              0   \n",
       "\n",
       "                                                    text  \\\n",
       "0      @JetBlue's new CEO seeks the right balance to ...   \n",
       "1      @JetBlue is REALLY getting on my nerves !! 😡😡 ...   \n",
       "2      @united yes. We waited in line for almost an h...   \n",
       "3      @united the we got into the gate at IAH on tim...   \n",
       "4      @SouthwestAir its cool that my bags take a bit...   \n",
       "...                                                  ...   \n",
       "14480  @JetBlue I hope so because I fly very often an...   \n",
       "14481  @USAirways is a DM possible if you aren't foll...   \n",
       "14482  @JetBlue Yesterday on my way from EWR to FLL j...   \n",
       "14483  @USAirways and when will one of these agents b...   \n",
       "14484  @USAirways  is there a better time to call? My...   \n",
       "\n",
       "                   tweet_created  tweet_date  \n",
       "0      2015-02-16 23:36:05 -0800  2015-02-16  \n",
       "1      2015-02-16 23:43:02 -0800  2015-02-16  \n",
       "2      2015-02-16 23:48:48 -0800  2015-02-16  \n",
       "3      2015-02-16 23:52:20 -0800  2015-02-16  \n",
       "4      2015-02-17 00:00:36 -0800  2015-02-17  \n",
       "...                          ...         ...  \n",
       "14480  2015-02-24 11:48:29 -0800  2015-02-24  \n",
       "14481  2015-02-24 11:48:37 -0800  2015-02-24  \n",
       "14482  2015-02-24 11:48:38 -0800  2015-02-24  \n",
       "14483  2015-02-24 11:51:48 -0800  2015-02-24  \n",
       "14484  2015-02-24 11:53:37 -0800  2015-02-24  \n",
       "\n",
       "[14485 rows x 9 columns]"
      ]
     },
     "execution_count": 10,
     "metadata": {},
     "output_type": "execute_result"
    }
   ],
   "source": [
    "data_tweets[\"tweet_date\"] = data_tweets_new[0]\n",
    "data_tweets"
   ]
  },
  {
   "cell_type": "code",
   "execution_count": 11,
   "metadata": {},
   "outputs": [
    {
     "data": {
      "text/html": [
       "<div>\n",
       "<style scoped>\n",
       "    .dataframe tbody tr th:only-of-type {\n",
       "        vertical-align: middle;\n",
       "    }\n",
       "\n",
       "    .dataframe tbody tr th {\n",
       "        vertical-align: top;\n",
       "    }\n",
       "\n",
       "    .dataframe thead th {\n",
       "        text-align: right;\n",
       "    }\n",
       "</style>\n",
       "<table border=\"1\" class=\"dataframe\">\n",
       "  <thead>\n",
       "    <tr style=\"text-align: right;\">\n",
       "      <th></th>\n",
       "      <th>tweet_id</th>\n",
       "      <th>airline_sentiment</th>\n",
       "      <th>airline_sentiment_confidence</th>\n",
       "      <th>airline</th>\n",
       "      <th>name</th>\n",
       "      <th>retweet_count</th>\n",
       "      <th>text</th>\n",
       "      <th>tweet_created</th>\n",
       "      <th>tweet_date</th>\n",
       "      <th>tweet_time</th>\n",
       "    </tr>\n",
       "  </thead>\n",
       "  <tbody>\n",
       "    <tr>\n",
       "      <th>0</th>\n",
       "      <td>567588278875213824</td>\n",
       "      <td>neutral</td>\n",
       "      <td>1.0000</td>\n",
       "      <td>DL</td>\n",
       "      <td>JetBlueNews</td>\n",
       "      <td>0</td>\n",
       "      <td>@JetBlue's new CEO seeks the right balance to ...</td>\n",
       "      <td>2015-02-16 23:36:05 -0800</td>\n",
       "      <td>2015-02-16</td>\n",
       "      <td>23:36</td>\n",
       "    </tr>\n",
       "    <tr>\n",
       "      <th>1</th>\n",
       "      <td>567590027375702016</td>\n",
       "      <td>negative</td>\n",
       "      <td>1.0000</td>\n",
       "      <td>DL</td>\n",
       "      <td>nesi_1992</td>\n",
       "      <td>0</td>\n",
       "      <td>@JetBlue is REALLY getting on my nerves !! 😡😡 ...</td>\n",
       "      <td>2015-02-16 23:43:02 -0800</td>\n",
       "      <td>2015-02-16</td>\n",
       "      <td>23:43</td>\n",
       "    </tr>\n",
       "    <tr>\n",
       "      <th>2</th>\n",
       "      <td>567591480085463040</td>\n",
       "      <td>negative</td>\n",
       "      <td>1.0000</td>\n",
       "      <td>UA</td>\n",
       "      <td>CPoutloud</td>\n",
       "      <td>0</td>\n",
       "      <td>@united yes. We waited in line for almost an h...</td>\n",
       "      <td>2015-02-16 23:48:48 -0800</td>\n",
       "      <td>2015-02-16</td>\n",
       "      <td>23:48</td>\n",
       "    </tr>\n",
       "    <tr>\n",
       "      <th>3</th>\n",
       "      <td>567592368451248130</td>\n",
       "      <td>negative</td>\n",
       "      <td>1.0000</td>\n",
       "      <td>UA</td>\n",
       "      <td>brenduch</td>\n",
       "      <td>0</td>\n",
       "      <td>@united the we got into the gate at IAH on tim...</td>\n",
       "      <td>2015-02-16 23:52:20 -0800</td>\n",
       "      <td>2015-02-16</td>\n",
       "      <td>23:52</td>\n",
       "    </tr>\n",
       "    <tr>\n",
       "      <th>4</th>\n",
       "      <td>567594449874587648</td>\n",
       "      <td>negative</td>\n",
       "      <td>1.0000</td>\n",
       "      <td>WN</td>\n",
       "      <td>VahidESQ</td>\n",
       "      <td>0</td>\n",
       "      <td>@SouthwestAir its cool that my bags take a bit...</td>\n",
       "      <td>2015-02-17 00:00:36 -0800</td>\n",
       "      <td>2015-02-17</td>\n",
       "      <td>00:00</td>\n",
       "    </tr>\n",
       "    <tr>\n",
       "      <th>...</th>\n",
       "      <td>...</td>\n",
       "      <td>...</td>\n",
       "      <td>...</td>\n",
       "      <td>...</td>\n",
       "      <td>...</td>\n",
       "      <td>...</td>\n",
       "      <td>...</td>\n",
       "      <td>...</td>\n",
       "      <td>...</td>\n",
       "      <td>...</td>\n",
       "    </tr>\n",
       "    <tr>\n",
       "      <th>14480</th>\n",
       "      <td>570309308937842688</td>\n",
       "      <td>neutral</td>\n",
       "      <td>0.6869</td>\n",
       "      <td>DL</td>\n",
       "      <td>Oneladyyouadore</td>\n",
       "      <td>0</td>\n",
       "      <td>@JetBlue I hope so because I fly very often an...</td>\n",
       "      <td>2015-02-24 11:48:29 -0800</td>\n",
       "      <td>2015-02-24</td>\n",
       "      <td>11:48</td>\n",
       "    </tr>\n",
       "    <tr>\n",
       "      <th>14481</th>\n",
       "      <td>570309340952993796</td>\n",
       "      <td>neutral</td>\n",
       "      <td>1.0000</td>\n",
       "      <td>US</td>\n",
       "      <td>DebbiMcGinnis</td>\n",
       "      <td>0</td>\n",
       "      <td>@USAirways is a DM possible if you aren't foll...</td>\n",
       "      <td>2015-02-24 11:48:37 -0800</td>\n",
       "      <td>2015-02-24</td>\n",
       "      <td>11:48</td>\n",
       "    </tr>\n",
       "    <tr>\n",
       "      <th>14482</th>\n",
       "      <td>570309345281486848</td>\n",
       "      <td>positive</td>\n",
       "      <td>0.6469</td>\n",
       "      <td>DL</td>\n",
       "      <td>jaxbra</td>\n",
       "      <td>0</td>\n",
       "      <td>@JetBlue Yesterday on my way from EWR to FLL j...</td>\n",
       "      <td>2015-02-24 11:48:38 -0800</td>\n",
       "      <td>2015-02-24</td>\n",
       "      <td>11:48</td>\n",
       "    </tr>\n",
       "    <tr>\n",
       "      <th>14483</th>\n",
       "      <td>570310144459972608</td>\n",
       "      <td>negative</td>\n",
       "      <td>1.0000</td>\n",
       "      <td>US</td>\n",
       "      <td>GAKotsch</td>\n",
       "      <td>0</td>\n",
       "      <td>@USAirways and when will one of these agents b...</td>\n",
       "      <td>2015-02-24 11:51:48 -0800</td>\n",
       "      <td>2015-02-24</td>\n",
       "      <td>11:51</td>\n",
       "    </tr>\n",
       "    <tr>\n",
       "      <th>14484</th>\n",
       "      <td>570310600460525568</td>\n",
       "      <td>negative</td>\n",
       "      <td>0.6292</td>\n",
       "      <td>US</td>\n",
       "      <td>jhazelnut</td>\n",
       "      <td>0</td>\n",
       "      <td>@USAirways  is there a better time to call? My...</td>\n",
       "      <td>2015-02-24 11:53:37 -0800</td>\n",
       "      <td>2015-02-24</td>\n",
       "      <td>11:53</td>\n",
       "    </tr>\n",
       "  </tbody>\n",
       "</table>\n",
       "<p>14485 rows × 10 columns</p>\n",
       "</div>"
      ],
      "text/plain": [
       "                 tweet_id airline_sentiment  airline_sentiment_confidence  \\\n",
       "0      567588278875213824           neutral                        1.0000   \n",
       "1      567590027375702016          negative                        1.0000   \n",
       "2      567591480085463040          negative                        1.0000   \n",
       "3      567592368451248130          negative                        1.0000   \n",
       "4      567594449874587648          negative                        1.0000   \n",
       "...                   ...               ...                           ...   \n",
       "14480  570309308937842688           neutral                        0.6869   \n",
       "14481  570309340952993796           neutral                        1.0000   \n",
       "14482  570309345281486848          positive                        0.6469   \n",
       "14483  570310144459972608          negative                        1.0000   \n",
       "14484  570310600460525568          negative                        0.6292   \n",
       "\n",
       "      airline             name  retweet_count  \\\n",
       "0          DL      JetBlueNews              0   \n",
       "1          DL        nesi_1992              0   \n",
       "2          UA        CPoutloud              0   \n",
       "3          UA         brenduch              0   \n",
       "4          WN         VahidESQ              0   \n",
       "...       ...              ...            ...   \n",
       "14480      DL  Oneladyyouadore              0   \n",
       "14481      US    DebbiMcGinnis              0   \n",
       "14482      DL           jaxbra              0   \n",
       "14483      US         GAKotsch              0   \n",
       "14484      US        jhazelnut              0   \n",
       "\n",
       "                                                    text  \\\n",
       "0      @JetBlue's new CEO seeks the right balance to ...   \n",
       "1      @JetBlue is REALLY getting on my nerves !! 😡😡 ...   \n",
       "2      @united yes. We waited in line for almost an h...   \n",
       "3      @united the we got into the gate at IAH on tim...   \n",
       "4      @SouthwestAir its cool that my bags take a bit...   \n",
       "...                                                  ...   \n",
       "14480  @JetBlue I hope so because I fly very often an...   \n",
       "14481  @USAirways is a DM possible if you aren't foll...   \n",
       "14482  @JetBlue Yesterday on my way from EWR to FLL j...   \n",
       "14483  @USAirways and when will one of these agents b...   \n",
       "14484  @USAirways  is there a better time to call? My...   \n",
       "\n",
       "                   tweet_created  tweet_date tweet_time  \n",
       "0      2015-02-16 23:36:05 -0800  2015-02-16      23:36  \n",
       "1      2015-02-16 23:43:02 -0800  2015-02-16      23:43  \n",
       "2      2015-02-16 23:48:48 -0800  2015-02-16      23:48  \n",
       "3      2015-02-16 23:52:20 -0800  2015-02-16      23:52  \n",
       "4      2015-02-17 00:00:36 -0800  2015-02-17      00:00  \n",
       "...                          ...         ...        ...  \n",
       "14480  2015-02-24 11:48:29 -0800  2015-02-24      11:48  \n",
       "14481  2015-02-24 11:48:37 -0800  2015-02-24      11:48  \n",
       "14482  2015-02-24 11:48:38 -0800  2015-02-24      11:48  \n",
       "14483  2015-02-24 11:51:48 -0800  2015-02-24      11:51  \n",
       "14484  2015-02-24 11:53:37 -0800  2015-02-24      11:53  \n",
       "\n",
       "[14485 rows x 10 columns]"
      ]
     },
     "execution_count": 11,
     "metadata": {},
     "output_type": "execute_result"
    }
   ],
   "source": [
    "data_tweets_time= data_tweets_new[1].str.split(\":\",n=2, expand=True)\n",
    "data_tweets[\"tweet_time\"]=data_tweets_time[0]  + \":\" + data_tweets_time[1]\n",
    "data_tweets"
   ]
  },
  {
   "cell_type": "code",
   "execution_count": 12,
   "metadata": {},
   "outputs": [
    {
     "data": {
      "text/html": [
       "<div>\n",
       "<style scoped>\n",
       "    .dataframe tbody tr th:only-of-type {\n",
       "        vertical-align: middle;\n",
       "    }\n",
       "\n",
       "    .dataframe tbody tr th {\n",
       "        vertical-align: top;\n",
       "    }\n",
       "\n",
       "    .dataframe thead th {\n",
       "        text-align: right;\n",
       "    }\n",
       "</style>\n",
       "<table border=\"1\" class=\"dataframe\">\n",
       "  <thead>\n",
       "    <tr style=\"text-align: right;\">\n",
       "      <th></th>\n",
       "      <th>tweet_id</th>\n",
       "      <th>airline_sentiment</th>\n",
       "      <th>airline_sentiment_confidence</th>\n",
       "      <th>airline</th>\n",
       "      <th>name</th>\n",
       "      <th>retweet_count</th>\n",
       "      <th>text</th>\n",
       "      <th>tweet_date</th>\n",
       "      <th>tweet_time</th>\n",
       "    </tr>\n",
       "  </thead>\n",
       "  <tbody>\n",
       "    <tr>\n",
       "      <th>0</th>\n",
       "      <td>567588278875213824</td>\n",
       "      <td>neutral</td>\n",
       "      <td>1.0000</td>\n",
       "      <td>DL</td>\n",
       "      <td>JetBlueNews</td>\n",
       "      <td>0</td>\n",
       "      <td>@JetBlue's new CEO seeks the right balance to ...</td>\n",
       "      <td>2015-02-16</td>\n",
       "      <td>23:36</td>\n",
       "    </tr>\n",
       "    <tr>\n",
       "      <th>1</th>\n",
       "      <td>567590027375702016</td>\n",
       "      <td>negative</td>\n",
       "      <td>1.0000</td>\n",
       "      <td>DL</td>\n",
       "      <td>nesi_1992</td>\n",
       "      <td>0</td>\n",
       "      <td>@JetBlue is REALLY getting on my nerves !! 😡😡 ...</td>\n",
       "      <td>2015-02-16</td>\n",
       "      <td>23:43</td>\n",
       "    </tr>\n",
       "    <tr>\n",
       "      <th>2</th>\n",
       "      <td>567591480085463040</td>\n",
       "      <td>negative</td>\n",
       "      <td>1.0000</td>\n",
       "      <td>UA</td>\n",
       "      <td>CPoutloud</td>\n",
       "      <td>0</td>\n",
       "      <td>@united yes. We waited in line for almost an h...</td>\n",
       "      <td>2015-02-16</td>\n",
       "      <td>23:48</td>\n",
       "    </tr>\n",
       "    <tr>\n",
       "      <th>3</th>\n",
       "      <td>567592368451248130</td>\n",
       "      <td>negative</td>\n",
       "      <td>1.0000</td>\n",
       "      <td>UA</td>\n",
       "      <td>brenduch</td>\n",
       "      <td>0</td>\n",
       "      <td>@united the we got into the gate at IAH on tim...</td>\n",
       "      <td>2015-02-16</td>\n",
       "      <td>23:52</td>\n",
       "    </tr>\n",
       "    <tr>\n",
       "      <th>4</th>\n",
       "      <td>567594449874587648</td>\n",
       "      <td>negative</td>\n",
       "      <td>1.0000</td>\n",
       "      <td>WN</td>\n",
       "      <td>VahidESQ</td>\n",
       "      <td>0</td>\n",
       "      <td>@SouthwestAir its cool that my bags take a bit...</td>\n",
       "      <td>2015-02-17</td>\n",
       "      <td>00:00</td>\n",
       "    </tr>\n",
       "    <tr>\n",
       "      <th>...</th>\n",
       "      <td>...</td>\n",
       "      <td>...</td>\n",
       "      <td>...</td>\n",
       "      <td>...</td>\n",
       "      <td>...</td>\n",
       "      <td>...</td>\n",
       "      <td>...</td>\n",
       "      <td>...</td>\n",
       "      <td>...</td>\n",
       "    </tr>\n",
       "    <tr>\n",
       "      <th>14480</th>\n",
       "      <td>570309308937842688</td>\n",
       "      <td>neutral</td>\n",
       "      <td>0.6869</td>\n",
       "      <td>DL</td>\n",
       "      <td>Oneladyyouadore</td>\n",
       "      <td>0</td>\n",
       "      <td>@JetBlue I hope so because I fly very often an...</td>\n",
       "      <td>2015-02-24</td>\n",
       "      <td>11:48</td>\n",
       "    </tr>\n",
       "    <tr>\n",
       "      <th>14481</th>\n",
       "      <td>570309340952993796</td>\n",
       "      <td>neutral</td>\n",
       "      <td>1.0000</td>\n",
       "      <td>US</td>\n",
       "      <td>DebbiMcGinnis</td>\n",
       "      <td>0</td>\n",
       "      <td>@USAirways is a DM possible if you aren't foll...</td>\n",
       "      <td>2015-02-24</td>\n",
       "      <td>11:48</td>\n",
       "    </tr>\n",
       "    <tr>\n",
       "      <th>14482</th>\n",
       "      <td>570309345281486848</td>\n",
       "      <td>positive</td>\n",
       "      <td>0.6469</td>\n",
       "      <td>DL</td>\n",
       "      <td>jaxbra</td>\n",
       "      <td>0</td>\n",
       "      <td>@JetBlue Yesterday on my way from EWR to FLL j...</td>\n",
       "      <td>2015-02-24</td>\n",
       "      <td>11:48</td>\n",
       "    </tr>\n",
       "    <tr>\n",
       "      <th>14483</th>\n",
       "      <td>570310144459972608</td>\n",
       "      <td>negative</td>\n",
       "      <td>1.0000</td>\n",
       "      <td>US</td>\n",
       "      <td>GAKotsch</td>\n",
       "      <td>0</td>\n",
       "      <td>@USAirways and when will one of these agents b...</td>\n",
       "      <td>2015-02-24</td>\n",
       "      <td>11:51</td>\n",
       "    </tr>\n",
       "    <tr>\n",
       "      <th>14484</th>\n",
       "      <td>570310600460525568</td>\n",
       "      <td>negative</td>\n",
       "      <td>0.6292</td>\n",
       "      <td>US</td>\n",
       "      <td>jhazelnut</td>\n",
       "      <td>0</td>\n",
       "      <td>@USAirways  is there a better time to call? My...</td>\n",
       "      <td>2015-02-24</td>\n",
       "      <td>11:53</td>\n",
       "    </tr>\n",
       "  </tbody>\n",
       "</table>\n",
       "<p>14485 rows × 9 columns</p>\n",
       "</div>"
      ],
      "text/plain": [
       "                 tweet_id airline_sentiment  airline_sentiment_confidence  \\\n",
       "0      567588278875213824           neutral                        1.0000   \n",
       "1      567590027375702016          negative                        1.0000   \n",
       "2      567591480085463040          negative                        1.0000   \n",
       "3      567592368451248130          negative                        1.0000   \n",
       "4      567594449874587648          negative                        1.0000   \n",
       "...                   ...               ...                           ...   \n",
       "14480  570309308937842688           neutral                        0.6869   \n",
       "14481  570309340952993796           neutral                        1.0000   \n",
       "14482  570309345281486848          positive                        0.6469   \n",
       "14483  570310144459972608          negative                        1.0000   \n",
       "14484  570310600460525568          negative                        0.6292   \n",
       "\n",
       "      airline             name  retweet_count  \\\n",
       "0          DL      JetBlueNews              0   \n",
       "1          DL        nesi_1992              0   \n",
       "2          UA        CPoutloud              0   \n",
       "3          UA         brenduch              0   \n",
       "4          WN         VahidESQ              0   \n",
       "...       ...              ...            ...   \n",
       "14480      DL  Oneladyyouadore              0   \n",
       "14481      US    DebbiMcGinnis              0   \n",
       "14482      DL           jaxbra              0   \n",
       "14483      US         GAKotsch              0   \n",
       "14484      US        jhazelnut              0   \n",
       "\n",
       "                                                    text  tweet_date  \\\n",
       "0      @JetBlue's new CEO seeks the right balance to ...  2015-02-16   \n",
       "1      @JetBlue is REALLY getting on my nerves !! 😡😡 ...  2015-02-16   \n",
       "2      @united yes. We waited in line for almost an h...  2015-02-16   \n",
       "3      @united the we got into the gate at IAH on tim...  2015-02-16   \n",
       "4      @SouthwestAir its cool that my bags take a bit...  2015-02-17   \n",
       "...                                                  ...         ...   \n",
       "14480  @JetBlue I hope so because I fly very often an...  2015-02-24   \n",
       "14481  @USAirways is a DM possible if you aren't foll...  2015-02-24   \n",
       "14482  @JetBlue Yesterday on my way from EWR to FLL j...  2015-02-24   \n",
       "14483  @USAirways and when will one of these agents b...  2015-02-24   \n",
       "14484  @USAirways  is there a better time to call? My...  2015-02-24   \n",
       "\n",
       "      tweet_time  \n",
       "0          23:36  \n",
       "1          23:43  \n",
       "2          23:48  \n",
       "3          23:52  \n",
       "4          00:00  \n",
       "...          ...  \n",
       "14480      11:48  \n",
       "14481      11:48  \n",
       "14482      11:48  \n",
       "14483      11:51  \n",
       "14484      11:53  \n",
       "\n",
       "[14485 rows x 9 columns]"
      ]
     },
     "execution_count": 12,
     "metadata": {},
     "output_type": "execute_result"
    }
   ],
   "source": [
    "data_tweets= data_tweets.drop([\"tweet_created\"],axis=1)\n",
    "data_tweets"
   ]
  },
  {
   "cell_type": "code",
   "execution_count": 13,
   "metadata": {},
   "outputs": [],
   "source": [
    "#creating a groupby for airline codes\n",
    "data_tweets_grouped = data_tweets.groupby([\"airline\"])"
   ]
  },
  {
   "cell_type": "code",
   "execution_count": 14,
   "metadata": {},
   "outputs": [],
   "source": [
    "#creating separate dataframes for different airlines\n",
    "AA_df = data_tweets_grouped.get_group(\"AA\")"
   ]
  },
  {
   "cell_type": "code",
   "execution_count": 15,
   "metadata": {},
   "outputs": [],
   "source": [
    "#Creating new dataframes based on type of review \n",
    "\n",
    "AA_grouped = AA_df.groupby(\"airline_sentiment\")\n",
    "AA_positive = AA_grouped.get_group(\"positive\")\n",
    "AA_positive=AA_positive.reset_index(drop=True)\n",
    "\n",
    "AA_positive"
   ]
  },
  {
   "cell_type": "code",
   "execution_count": 16,
   "metadata": {},
   "outputs": [],
   "source": [
    "#Creating new dataframes based on type of review \n",
    "\n",
    "AA_negative = AA_grouped.get_group(\"negative\")\n",
    "AA_negative=AA_negative.reset_index(drop=True)\n",
    "\n",
    "AA_negative"
   ]
  },
  {
   "cell_type": "code",
   "execution_count": 17,
   "metadata": {},
   "outputs": [],
   "source": [
    "#Creating new dataframes based on type of review \n",
    "\n",
    "AA_neutral = AA_grouped.get_group(\"neutral\")\n",
    "AA_neutral=AA_neutral.reset_index(drop=True)\n",
    "\n",
    "AA_neutral"
   ]
  },
  {
   "cell_type": "code",
   "execution_count": 18,
   "metadata": {},
   "outputs": [
    {
     "data": {
      "text/html": [
       "<div>\n",
       "<style scoped>\n",
       "    .dataframe tbody tr th:only-of-type {\n",
       "        vertical-align: middle;\n",
       "    }\n",
       "\n",
       "    .dataframe tbody tr th {\n",
       "        vertical-align: top;\n",
       "    }\n",
       "\n",
       "    .dataframe thead th {\n",
       "        text-align: right;\n",
       "    }\n",
       "</style>\n",
       "<table border=\"1\" class=\"dataframe\">\n",
       "  <thead>\n",
       "    <tr style=\"text-align: right;\">\n",
       "      <th></th>\n",
       "      <th>tweet_id</th>\n",
       "      <th>airline_sentiment</th>\n",
       "      <th>airline_sentiment_confidence</th>\n",
       "      <th>airline</th>\n",
       "      <th>name</th>\n",
       "      <th>retweet_count</th>\n",
       "      <th>text</th>\n",
       "      <th>tweet_date</th>\n",
       "      <th>tweet_time</th>\n",
       "    </tr>\n",
       "  </thead>\n",
       "  <tbody>\n",
       "    <tr>\n",
       "      <th>0</th>\n",
       "      <td>567701830805618688</td>\n",
       "      <td>positive</td>\n",
       "      <td>1.0000</td>\n",
       "      <td>UA</td>\n",
       "      <td>scherzva</td>\n",
       "      <td>0</td>\n",
       "      <td>@united New Apple crâpe, amazing! Live from UA...</td>\n",
       "      <td>2015-02-17</td>\n",
       "      <td>07:07</td>\n",
       "    </tr>\n",
       "    <tr>\n",
       "      <th>1</th>\n",
       "      <td>567729696662511616</td>\n",
       "      <td>positive</td>\n",
       "      <td>1.0000</td>\n",
       "      <td>UA</td>\n",
       "      <td>mchooyah</td>\n",
       "      <td>0</td>\n",
       "      <td>@united Thank you for the new Club at O'Hare. ...</td>\n",
       "      <td>2015-02-17</td>\n",
       "      <td>08:58</td>\n",
       "    </tr>\n",
       "    <tr>\n",
       "      <th>2</th>\n",
       "      <td>567733177590874114</td>\n",
       "      <td>positive</td>\n",
       "      <td>1.0000</td>\n",
       "      <td>UA</td>\n",
       "      <td>ClaudiaStClair</td>\n",
       "      <td>0</td>\n",
       "      <td>@united I appreciate the follow up.</td>\n",
       "      <td>2015-02-17</td>\n",
       "      <td>09:11</td>\n",
       "    </tr>\n",
       "    <tr>\n",
       "      <th>3</th>\n",
       "      <td>567733228690083841</td>\n",
       "      <td>positive</td>\n",
       "      <td>1.0000</td>\n",
       "      <td>UA</td>\n",
       "      <td>jsumiyasu</td>\n",
       "      <td>0</td>\n",
       "      <td>@united @jsumiyasu I am thankful to the  Unite...</td>\n",
       "      <td>2015-02-17</td>\n",
       "      <td>09:12</td>\n",
       "    </tr>\n",
       "    <tr>\n",
       "      <th>4</th>\n",
       "      <td>567733609130233856</td>\n",
       "      <td>positive</td>\n",
       "      <td>0.7097</td>\n",
       "      <td>UA</td>\n",
       "      <td>BhutanOrient</td>\n",
       "      <td>0</td>\n",
       "      <td>@united no worries about the tweets. We all sh...</td>\n",
       "      <td>2015-02-17</td>\n",
       "      <td>09:13</td>\n",
       "    </tr>\n",
       "    <tr>\n",
       "      <th>...</th>\n",
       "      <td>...</td>\n",
       "      <td>...</td>\n",
       "      <td>...</td>\n",
       "      <td>...</td>\n",
       "      <td>...</td>\n",
       "      <td>...</td>\n",
       "      <td>...</td>\n",
       "      <td>...</td>\n",
       "      <td>...</td>\n",
       "    </tr>\n",
       "    <tr>\n",
       "      <th>487</th>\n",
       "      <td>570299819610251265</td>\n",
       "      <td>positive</td>\n",
       "      <td>1.0000</td>\n",
       "      <td>UA</td>\n",
       "      <td>BK_TheBri</td>\n",
       "      <td>0</td>\n",
       "      <td>@united Thanks. It is on the same ticket.</td>\n",
       "      <td>2015-02-24</td>\n",
       "      <td>11:10</td>\n",
       "    </tr>\n",
       "    <tr>\n",
       "      <th>488</th>\n",
       "      <td>570299889688702976</td>\n",
       "      <td>positive</td>\n",
       "      <td>0.6634</td>\n",
       "      <td>UA</td>\n",
       "      <td>nydia376</td>\n",
       "      <td>0</td>\n",
       "      <td>@united thanks</td>\n",
       "      <td>2015-02-24</td>\n",
       "      <td>11:11</td>\n",
       "    </tr>\n",
       "    <tr>\n",
       "      <th>489</th>\n",
       "      <td>570306733010264064</td>\n",
       "      <td>positive</td>\n",
       "      <td>0.3441</td>\n",
       "      <td>UA</td>\n",
       "      <td>rombaa</td>\n",
       "      <td>0</td>\n",
       "      <td>@united thanks -- we filled it out. How's our ...</td>\n",
       "      <td>2015-02-24</td>\n",
       "      <td>11:38</td>\n",
       "    </tr>\n",
       "    <tr>\n",
       "      <th>490</th>\n",
       "      <td>570307847281614848</td>\n",
       "      <td>positive</td>\n",
       "      <td>1.0000</td>\n",
       "      <td>UA</td>\n",
       "      <td>CoreyAStewart</td>\n",
       "      <td>0</td>\n",
       "      <td>@united Thanks for taking care of that MR!! Ha...</td>\n",
       "      <td>2015-02-24</td>\n",
       "      <td>11:42</td>\n",
       "    </tr>\n",
       "    <tr>\n",
       "      <th>491</th>\n",
       "      <td>570307876897628160</td>\n",
       "      <td>positive</td>\n",
       "      <td>1.0000</td>\n",
       "      <td>UA</td>\n",
       "      <td>rdowning76</td>\n",
       "      <td>0</td>\n",
       "      <td>@united thanks</td>\n",
       "      <td>2015-02-24</td>\n",
       "      <td>11:42</td>\n",
       "    </tr>\n",
       "  </tbody>\n",
       "</table>\n",
       "<p>492 rows × 9 columns</p>\n",
       "</div>"
      ],
      "text/plain": [
       "               tweet_id airline_sentiment  airline_sentiment_confidence  \\\n",
       "0    567701830805618688          positive                        1.0000   \n",
       "1    567729696662511616          positive                        1.0000   \n",
       "2    567733177590874114          positive                        1.0000   \n",
       "3    567733228690083841          positive                        1.0000   \n",
       "4    567733609130233856          positive                        0.7097   \n",
       "..                  ...               ...                           ...   \n",
       "487  570299819610251265          positive                        1.0000   \n",
       "488  570299889688702976          positive                        0.6634   \n",
       "489  570306733010264064          positive                        0.3441   \n",
       "490  570307847281614848          positive                        1.0000   \n",
       "491  570307876897628160          positive                        1.0000   \n",
       "\n",
       "    airline            name  retweet_count  \\\n",
       "0        UA        scherzva              0   \n",
       "1        UA        mchooyah              0   \n",
       "2        UA  ClaudiaStClair              0   \n",
       "3        UA       jsumiyasu              0   \n",
       "4        UA    BhutanOrient              0   \n",
       "..      ...             ...            ...   \n",
       "487      UA       BK_TheBri              0   \n",
       "488      UA        nydia376              0   \n",
       "489      UA          rombaa              0   \n",
       "490      UA   CoreyAStewart              0   \n",
       "491      UA      rdowning76              0   \n",
       "\n",
       "                                                  text  tweet_date tweet_time  \n",
       "0    @united New Apple crâpe, amazing! Live from UA...  2015-02-17      07:07  \n",
       "1    @united Thank you for the new Club at O'Hare. ...  2015-02-17      08:58  \n",
       "2                  @united I appreciate the follow up.  2015-02-17      09:11  \n",
       "3    @united @jsumiyasu I am thankful to the  Unite...  2015-02-17      09:12  \n",
       "4    @united no worries about the tweets. We all sh...  2015-02-17      09:13  \n",
       "..                                                 ...         ...        ...  \n",
       "487          @united Thanks. It is on the same ticket.  2015-02-24      11:10  \n",
       "488                                     @united thanks  2015-02-24      11:11  \n",
       "489  @united thanks -- we filled it out. How's our ...  2015-02-24      11:38  \n",
       "490  @united Thanks for taking care of that MR!! Ha...  2015-02-24      11:42  \n",
       "491                                     @united thanks  2015-02-24      11:42  \n",
       "\n",
       "[492 rows x 9 columns]"
      ]
     },
     "execution_count": 18,
     "metadata": {},
     "output_type": "execute_result"
    }
   ],
   "source": [
    "#creating separate dataframes for different airlines\n",
    "UA_df = data_tweets_grouped.get_group(\"UA\")\n",
    "#Creating new dataframes based on type of review \n",
    "\n",
    "UA_grouped = UA_df.groupby(\"airline_sentiment\")\n",
    "UA_positive = UA_grouped.get_group(\"positive\")\n",
    "UA_positive = UA_positive.reset_index(drop=True)\n",
    "\n",
    "UA_positive"
   ]
  },
  {
   "cell_type": "code",
   "execution_count": 19,
   "metadata": {},
   "outputs": [],
   "source": [
    "#Creating new dataframes based on type of review \n",
    "\n",
    "UA_negative = UA_grouped.get_group(\"negative\")\n",
    "UA_negative = UA_negative.reset_index(drop=True)\n",
    "\n",
    "UA_negative"
   ]
  },
  {
   "cell_type": "code",
   "execution_count": 20,
   "metadata": {},
   "outputs": [],
   "source": [
    "#Creating new dataframes based on type of review \n",
    "\n",
    "UA_neutral = UA_grouped.get_group(\"neutral\")\n",
    "UA_neutral = UA_neutral.reset_index(drop=True)\n",
    "\n",
    "UA_neutral"
   ]
  },
  {
   "cell_type": "code",
   "execution_count": 21,
   "metadata": {},
   "outputs": [],
   "source": [
    "#creating separate dataframes for different airlines\n",
    "US_df = data_tweets_grouped.get_group(\"US\")\n",
    "#Creating new dataframes based on type of review \n",
    "\n",
    "US_grouped = US_df.groupby(\"airline_sentiment\")\n",
    "US_positive = US_grouped.get_group(\"positive\")\n",
    "US_positive = US_positive.reset_index(drop=True)\n",
    "\n",
    "US_positive"
   ]
  },
  {
   "cell_type": "code",
   "execution_count": 22,
   "metadata": {},
   "outputs": [],
   "source": [
    "#Creating new dataframes based on type of review \n",
    "\n",
    "US_negative = US_grouped.get_group(\"negative\")\n",
    "US_negative = US_negative.reset_index(drop=True)\n",
    "\n",
    "US_negative"
   ]
  },
  {
   "cell_type": "code",
   "execution_count": 23,
   "metadata": {},
   "outputs": [],
   "source": [
    "#Creating new dataframes based on type of review \n",
    "\n",
    "US_neutral = US_grouped.get_group(\"neutral\")\n",
    "US_neutral = US_neutral.reset_index(drop=True)\n",
    "\n",
    "US_neutral"
   ]
  },
  {
   "cell_type": "code",
   "execution_count": 24,
   "metadata": {},
   "outputs": [],
   "source": [
    "#creating separate dataframes for different airlines\n",
    "WN_df = data_tweets_grouped.get_group(\"WN\")\n",
    "#Creating new dataframes based on type of review \n",
    "\n",
    "WN_grouped = WN_df.groupby(\"airline_sentiment\")\n",
    "WN_positive = WN_grouped.get_group(\"positive\")\n",
    "WN_positive = WN_positive.reset_index(drop=True)\n",
    "\n",
    "WN_positive"
   ]
  },
  {
   "cell_type": "code",
   "execution_count": 25,
   "metadata": {},
   "outputs": [],
   "source": [
    "#Creating new dataframes based on type of review \n",
    "\n",
    "WN_negative = WN_grouped.get_group(\"negative\")\n",
    "WN_negative = WN_negative.reset_index(drop=True)\n",
    "\n",
    "WN_negative"
   ]
  },
  {
   "cell_type": "code",
   "execution_count": 26,
   "metadata": {},
   "outputs": [],
   "source": [
    "#Creating new dataframes based on type of review \n",
    "\n",
    "WN_neutral = WN_grouped.get_group(\"neutral\")\n",
    "WN_neutral = WN_neutral.reset_index(drop=True)\n",
    "\n",
    "WN_neutral"
   ]
  },
  {
   "cell_type": "code",
   "execution_count": 27,
   "metadata": {},
   "outputs": [],
   "source": [
    "#creating separate dataframes for different airlines\n",
    "DL_df = data_tweets_grouped.get_group(\"DL\")\n",
    "#Creating new dataframes based on type of review \n",
    "\n",
    "DL_grouped = DL_df.groupby(\"airline_sentiment\")\n",
    "DL_positive = DL_grouped.get_group(\"positive\")\n",
    "DL_positive = DL_positive.reset_index(drop=True)\n",
    "\n",
    "DL_positive"
   ]
  },
  {
   "cell_type": "code",
   "execution_count": 28,
   "metadata": {},
   "outputs": [],
   "source": [
    "#Creating new dataframes based on type of review \n",
    "\n",
    "DL_negative = DL_grouped.get_group(\"negative\")\n",
    "DL_negative = DL_negative.reset_index(drop=True)\n",
    "\n",
    "DL_negative"
   ]
  },
  {
   "cell_type": "code",
   "execution_count": 29,
   "metadata": {},
   "outputs": [],
   "source": [
    "#Creating new dataframes based on type of review \n",
    "\n",
    "DL_neutral = DL_grouped.get_group(\"neutral\")\n",
    "DL_neutral = DL_neutral.reset_index(drop=True)\n",
    "\n",
    "DL_neutral"
   ]
  },
  {
   "cell_type": "code",
   "execution_count": 30,
   "metadata": {},
   "outputs": [],
   "source": [
    "#creating separate dataframes for different airlines\n",
    "VX_df = data_tweets_grouped.get_group(\"VX\")\n",
    "#Creating new dataframes based on type of review \n",
    "\n",
    "VX_grouped = VX_df.groupby(\"airline_sentiment\")\n",
    "VX_positive = VX_grouped.get_group(\"positive\")\n",
    "VX_positive = VX_positive.reset_index(drop=True)\n",
    "\n",
    "VX_positive"
   ]
  },
  {
   "cell_type": "code",
   "execution_count": 31,
   "metadata": {},
   "outputs": [],
   "source": [
    "#Creating new dataframes based on type of review \n",
    "\n",
    "VX_negative = VX_grouped.get_group(\"negative\")\n",
    "VX_negative = VX_negative.reset_index(drop=True)\n",
    "\n",
    "VX_negative"
   ]
  },
  {
   "cell_type": "code",
   "execution_count": 32,
   "metadata": {},
   "outputs": [],
   "source": [
    "#Creating new dataframes based on type of review \n",
    "\n",
    "VX_neutral = VX_grouped.get_group(\"neutral\")\n",
    "VX_neutral = VX_neutral.reset_index(drop=True)\n",
    "\n",
    "VX_neutral"
   ]
  },
  {
   "cell_type": "markdown",
   "metadata": {},
   "source": [
    "## Data Loading (Matt)"
   ]
  },
  {
   "attachments": {},
   "cell_type": "markdown",
   "metadata": {},
   "source": []
  },
  {
   "cell_type": "code",
   "execution_count": 33,
   "metadata": {},
   "outputs": [],
   "source": [
    "#Import Database Key\n",
    "from db_keys import db_key\n",
    "\n",
    "#Connect to PostgreSQL Database\n",
    "pg_engine = create_engine('postgresql://' + db_key + '@localhost:5432/test_1')"
   ]
  },
  {
   "cell_type": "code",
   "execution_count": 34,
   "metadata": {},
   "outputs": [
    {
     "data": {
      "text/plain": [
       "<sqlalchemy.engine.result.ResultProxy at 0x1a3c6126748>"
      ]
     },
     "execution_count": 34,
     "metadata": {},
     "output_type": "execute_result"
    }
   ],
   "source": [
    "#Create Airlines Table\n",
    "pg_engine.execute('CREATE TABLE \"Airlines\" (\"IATA_CODE\" VARCHAR(2) PRIMARY KEY, \"AIRLINE\" VARCHAR(50) NOT NULL);')"
   ]
  },
  {
   "cell_type": "code",
   "execution_count": 35,
   "metadata": {},
   "outputs": [],
   "source": [
    "#Add Airlines Data Frame to Airlines Table"
   ]
  },
  {
   "cell_type": "code",
   "execution_count": 36,
   "metadata": {},
   "outputs": [
    {
     "data": {
      "text/plain": [
       "<sqlalchemy.engine.result.ResultProxy at 0x1a3c71f6668>"
      ]
     },
     "execution_count": 36,
     "metadata": {},
     "output_type": "execute_result"
    }
   ],
   "source": [
    "#Create Airports Table\n",
    "pg_engine.execute('CREATE TABLE \"Airports\" (\"IATA_CODE\" VARCHAR(3) PRIMARY KEY, \"AIRPORT\" VARCHAR(50) NOT NULL, \"CITY\" VARCHAR(50) NOT NULL, \"STATE\" VARCHAR(2) NOT NULL, \"COUNTRY\" VARCHAR(3) NOT NULL);')"
   ]
  },
  {
   "cell_type": "code",
   "execution_count": 37,
   "metadata": {},
   "outputs": [],
   "source": [
    "#Add Airports Data Frame to Airports Table"
   ]
  },
  {
   "cell_type": "code",
   "execution_count": 38,
   "metadata": {},
   "outputs": [
    {
     "data": {
      "text/plain": [
       "<sqlalchemy.engine.result.ResultProxy at 0x1a3c72020b8>"
      ]
     },
     "execution_count": 38,
     "metadata": {},
     "output_type": "execute_result"
    }
   ],
   "source": [
    "#Create UA Early Table\n",
    "pg_engine.execute('CREATE TABLE \"UA_Early\" (\"DAY_OF_WEEK\" VARCHAR(10), \"AIRLINE\" VARCHAR(2), \"FLIGHT_NUMBER\" INT, \"TAIL_NUMBER\" VARCHAR(6), \"ORIGIN_AIRPORT\" VARCHAR(3), \"DESTINATION_AIRPORT\" VARCHAR(3), \"SCHEDULED_DEPARTURE\" VARCHAR(5), \"DEPARTURE_TIME\" VARCHAR(5), \"DEPARTURE_DELAY\" VARCHAR(5), \"TAXI_OUT\" VARCHAR(5), \"WHEELS_OFF\" VARCHAR(5), \"SCHEDULED_TIME\" VARCHAR(5), \"ELAPSED_TIME\" VARCHAR(5), \"AIR_TIME\" VARCHAR(5), \"DISTANCE\" INT, \"WHEELS_ON\" VARCHAR(5), \"TAXI_IN\" VARCHAR(5), \"SCHEDULED_ARRIVAL\" VARCHAR(5), \"ARRIVAL_TIME\" VARCHAR(5), \"ARRIVAL_DELAY\" VARCHAR(5), \"TOTAL_DELAY\" VARCHAR(5), \"DATE\" VARCHAR(10), FOREIGN KEY (\"ORIGIN_AIRPORT\") REFERENCES \"Airports\" (\"IATA_CODE\"), FOREIGN KEY (\"DESTINATION_AIRPORT\") REFERENCES \"Airports\" (\"IATA_CODE\"), FOREIGN KEY (\"AIRLINE\") REFERENCES \"Airlines\" (\"IATA_CODE\"));')"
   ]
  },
  {
   "cell_type": "code",
   "execution_count": 39,
   "metadata": {},
   "outputs": [],
   "source": [
    "#Add UA Early Data Frame to UA Early Table"
   ]
  },
  {
   "cell_type": "code",
   "execution_count": 40,
   "metadata": {},
   "outputs": [
    {
     "data": {
      "text/plain": [
       "<sqlalchemy.engine.result.ResultProxy at 0x1a3c7202ac8>"
      ]
     },
     "execution_count": 40,
     "metadata": {},
     "output_type": "execute_result"
    }
   ],
   "source": [
    "#Create AA Early Table\n",
    "pg_engine.execute('CREATE TABLE \"AA_Early\" (\"DAY_OF_WEEK\" VARCHAR(10), \"AIRLINE\" VARCHAR(2), \"FLIGHT_NUMBER\" INT, \"TAIL_NUMBER\" VARCHAR(6), \"ORIGIN_AIRPORT\" VARCHAR(3), \"DESTINATION_AIRPORT\" VARCHAR(3), \"SCHEDULED_DEPARTURE\" VARCHAR(5), \"DEPARTURE_TIME\" VARCHAR(5), \"DEPARTURE_DELAY\" VARCHAR(5), \"TAXI_OUT\" VARCHAR(5), \"WHEELS_OFF\" VARCHAR(5), \"SCHEDULED_TIME\" VARCHAR(5), \"ELAPSED_TIME\" VARCHAR(5), \"AIR_TIME\" VARCHAR(5), \"DISTANCE\" INT, \"WHEELS_ON\" VARCHAR(5), \"TAXI_IN\" VARCHAR(5), \"SCHEDULED_ARRIVAL\" VARCHAR(5), \"ARRIVAL_TIME\" VARCHAR(5), \"ARRIVAL_DELAY\" VARCHAR(5), \"TOTAL_DELAY\" VARCHAR(5), \"DATE\" VARCHAR(10), FOREIGN KEY (\"ORIGIN_AIRPORT\") REFERENCES \"Airports\" (\"IATA_CODE\"), FOREIGN KEY (\"DESTINATION_AIRPORT\") REFERENCES \"Airports\" (\"IATA_CODE\"), FOREIGN KEY (\"AIRLINE\") REFERENCES \"Airlines\" (\"IATA_CODE\"));')"
   ]
  },
  {
   "cell_type": "code",
   "execution_count": 41,
   "metadata": {},
   "outputs": [],
   "source": [
    "#Add AA Early Data Frame to AA Early Table"
   ]
  },
  {
   "cell_type": "code",
   "execution_count": 42,
   "metadata": {},
   "outputs": [
    {
     "data": {
      "text/plain": [
       "<sqlalchemy.engine.result.ResultProxy at 0x1a3c7204588>"
      ]
     },
     "execution_count": 42,
     "metadata": {},
     "output_type": "execute_result"
    }
   ],
   "source": [
    "#Create DL Early Table\n",
    "pg_engine.execute('CREATE TABLE \"DL_Early\" (\"DAY_OF_WEEK\" VARCHAR(10), \"AIRLINE\" VARCHAR(2), \"FLIGHT_NUMBER\" INT, \"TAIL_NUMBER\" VARCHAR(6), \"ORIGIN_AIRPORT\" VARCHAR(3), \"DESTINATION_AIRPORT\" VARCHAR(3), \"SCHEDULED_DEPARTURE\" VARCHAR(5), \"DEPARTURE_TIME\" VARCHAR(5), \"DEPARTURE_DELAY\" VARCHAR(5), \"TAXI_OUT\" VARCHAR(5), \"WHEELS_OFF\" VARCHAR(5), \"SCHEDULED_TIME\" VARCHAR(5), \"ELAPSED_TIME\" VARCHAR(5), \"AIR_TIME\" VARCHAR(5), \"DISTANCE\" INT, \"WHEELS_ON\" VARCHAR(5), \"TAXI_IN\" VARCHAR(5), \"SCHEDULED_ARRIVAL\" VARCHAR(5), \"ARRIVAL_TIME\" VARCHAR(5), \"ARRIVAL_DELAY\" VARCHAR(5), \"TOTAL_DELAY\" VARCHAR(5), \"DATE\" VARCHAR(10), FOREIGN KEY (\"ORIGIN_AIRPORT\") REFERENCES \"Airports\" (\"IATA_CODE\"), FOREIGN KEY (\"DESTINATION_AIRPORT\") REFERENCES \"Airports\" (\"IATA_CODE\"), FOREIGN KEY (\"AIRLINE\") REFERENCES \"Airlines\" (\"IATA_CODE\"));')"
   ]
  },
  {
   "cell_type": "code",
   "execution_count": 43,
   "metadata": {},
   "outputs": [],
   "source": [
    "#Add DL Early Data Frame to DL Early Table"
   ]
  },
  {
   "cell_type": "code",
   "execution_count": 44,
   "metadata": {},
   "outputs": [
    {
     "data": {
      "text/plain": [
       "<sqlalchemy.engine.result.ResultProxy at 0x1a3c71ff0b8>"
      ]
     },
     "execution_count": 44,
     "metadata": {},
     "output_type": "execute_result"
    }
   ],
   "source": [
    "#Create US Early Table\n",
    "pg_engine.execute('CREATE TABLE \"US_Early\" (\"DAY_OF_WEEK\" VARCHAR(10), \"AIRLINE\" VARCHAR(2), \"FLIGHT_NUMBER\" INT, \"TAIL_NUMBER\" VARCHAR(6), \"ORIGIN_AIRPORT\" VARCHAR(3), \"DESTINATION_AIRPORT\" VARCHAR(3), \"SCHEDULED_DEPARTURE\" VARCHAR(5), \"DEPARTURE_TIME\" VARCHAR(5), \"DEPARTURE_DELAY\" VARCHAR(5), \"TAXI_OUT\" VARCHAR(5), \"WHEELS_OFF\" VARCHAR(5), \"SCHEDULED_TIME\" VARCHAR(5), \"ELAPSED_TIME\" VARCHAR(5), \"AIR_TIME\" VARCHAR(5), \"DISTANCE\" INT, \"WHEELS_ON\" VARCHAR(5), \"TAXI_IN\" VARCHAR(5), \"SCHEDULED_ARRIVAL\" VARCHAR(5), \"ARRIVAL_TIME\" VARCHAR(5), \"ARRIVAL_DELAY\" VARCHAR(5), \"TOTAL_DELAY\" VARCHAR(5), \"DATE\" VARCHAR(10), FOREIGN KEY (\"ORIGIN_AIRPORT\") REFERENCES \"Airports\" (\"IATA_CODE\"), FOREIGN KEY (\"DESTINATION_AIRPORT\") REFERENCES \"Airports\" (\"IATA_CODE\"), FOREIGN KEY (\"AIRLINE\") REFERENCES \"Airlines\" (\"IATA_CODE\"));')"
   ]
  },
  {
   "cell_type": "code",
   "execution_count": 45,
   "metadata": {},
   "outputs": [],
   "source": [
    "#Add US Early Data Frame to US Early Table"
   ]
  },
  {
   "cell_type": "code",
   "execution_count": 46,
   "metadata": {},
   "outputs": [
    {
     "data": {
      "text/plain": [
       "<sqlalchemy.engine.result.ResultProxy at 0x1a3c7202240>"
      ]
     },
     "execution_count": 46,
     "metadata": {},
     "output_type": "execute_result"
    }
   ],
   "source": [
    "#Create WN Early Table\n",
    "pg_engine.execute('CREATE TABLE \"WN_Early\" (\"DAY_OF_WEEK\" VARCHAR(10), \"AIRLINE\" VARCHAR(2), \"FLIGHT_NUMBER\" INT, \"TAIL_NUMBER\" VARCHAR(6), \"ORIGIN_AIRPORT\" VARCHAR(3), \"DESTINATION_AIRPORT\" VARCHAR(3), \"SCHEDULED_DEPARTURE\" VARCHAR(5), \"DEPARTURE_TIME\" VARCHAR(5), \"DEPARTURE_DELAY\" VARCHAR(5), \"TAXI_OUT\" VARCHAR(5), \"WHEELS_OFF\" VARCHAR(5), \"SCHEDULED_TIME\" VARCHAR(5), \"ELAPSED_TIME\" VARCHAR(5), \"AIR_TIME\" VARCHAR(5), \"DISTANCE\" INT, \"WHEELS_ON\" VARCHAR(5), \"TAXI_IN\" VARCHAR(5), \"SCHEDULED_ARRIVAL\" VARCHAR(5), \"ARRIVAL_TIME\" VARCHAR(5), \"ARRIVAL_DELAY\" VARCHAR(5), \"TOTAL_DELAY\" VARCHAR(5), \"DATE\" VARCHAR(10), FOREIGN KEY (\"ORIGIN_AIRPORT\") REFERENCES \"Airports\" (\"IATA_CODE\"), FOREIGN KEY (\"DESTINATION_AIRPORT\") REFERENCES \"Airports\" (\"IATA_CODE\"), FOREIGN KEY (\"AIRLINE\") REFERENCES \"Airlines\" (\"IATA_CODE\"));')"
   ]
  },
  {
   "cell_type": "code",
   "execution_count": 47,
   "metadata": {},
   "outputs": [],
   "source": [
    "#Add WN Early Data Frame to WN Early Table"
   ]
  },
  {
   "cell_type": "code",
   "execution_count": 48,
   "metadata": {},
   "outputs": [
    {
     "data": {
      "text/plain": [
       "<sqlalchemy.engine.result.ResultProxy at 0x1a3c71ff550>"
      ]
     },
     "execution_count": 48,
     "metadata": {},
     "output_type": "execute_result"
    }
   ],
   "source": [
    "#Create VX Early Table\n",
    "pg_engine.execute('CREATE TABLE \"VX_Early\" (\"DAY_OF_WEEK\" VARCHAR(10), \"AIRLINE\" VARCHAR(2), \"FLIGHT_NUMBER\" INT, \"TAIL_NUMBER\" VARCHAR(6), \"ORIGIN_AIRPORT\" VARCHAR(3), \"DESTINATION_AIRPORT\" VARCHAR(3), \"SCHEDULED_DEPARTURE\" VARCHAR(5), \"DEPARTURE_TIME\" VARCHAR(5), \"DEPARTURE_DELAY\" VARCHAR(5), \"TAXI_OUT\" VARCHAR(5), \"WHEELS_OFF\" VARCHAR(5), \"SCHEDULED_TIME\" VARCHAR(5), \"ELAPSED_TIME\" VARCHAR(5), \"AIR_TIME\" VARCHAR(5), \"DISTANCE\" INT, \"WHEELS_ON\" VARCHAR(5), \"TAXI_IN\" VARCHAR(5), \"SCHEDULED_ARRIVAL\" VARCHAR(5), \"ARRIVAL_TIME\" VARCHAR(5), \"ARRIVAL_DELAY\" VARCHAR(5), \"TOTAL_DELAY\" VARCHAR(5), \"DATE\" VARCHAR(10), FOREIGN KEY (\"ORIGIN_AIRPORT\") REFERENCES \"Airports\" (\"IATA_CODE\"), FOREIGN KEY (\"DESTINATION_AIRPORT\") REFERENCES \"Airports\" (\"IATA_CODE\"), FOREIGN KEY (\"AIRLINE\") REFERENCES \"Airlines\" (\"IATA_CODE\"));')"
   ]
  },
  {
   "cell_type": "code",
   "execution_count": 49,
   "metadata": {},
   "outputs": [],
   "source": [
    "#Add VX Early Data Frame to VX Early Table"
   ]
  },
  {
   "cell_type": "code",
   "execution_count": 50,
   "metadata": {},
   "outputs": [
    {
     "data": {
      "text/plain": [
       "<sqlalchemy.engine.result.ResultProxy at 0x1a3c71fffd0>"
      ]
     },
     "execution_count": 50,
     "metadata": {},
     "output_type": "execute_result"
    }
   ],
   "source": [
    "#Create UA Late Table\n",
    "pg_engine.execute('CREATE TABLE \"UA_Late\" (\"DAY_OF_WEEK\" VARCHAR(10), \"AIRLINE\" VARCHAR(2), \"FLIGHT_NUMBER\" INT, \"TAIL_NUMBER\" VARCHAR(6), \"ORIGIN_AIRPORT\" VARCHAR(3), \"DESTINATION_AIRPORT\" VARCHAR(3), \"SCHEDULED_DEPARTURE\" VARCHAR(5), \"DEPARTURE_TIME\" VARCHAR(5), \"DEPARTURE_DELAY\" VARCHAR(5), \"TAXI_OUT\" VARCHAR(5), \"WHEELS_OFF\" VARCHAR(5), \"SCHEDULED_TIME\" VARCHAR(5), \"ELAPSED_TIME\" VARCHAR(5), \"AIR_TIME\" VARCHAR(5), \"DISTANCE\" INT, \"WHEELS_ON\" VARCHAR(5), \"TAXI_IN\" VARCHAR(5), \"SCHEDULED_ARRIVAL\" VARCHAR(5), \"ARRIVAL_TIME\" VARCHAR(5), \"ARRIVAL_DELAY\" VARCHAR(5), \"TOTAL_DELAY\" VARCHAR(5), \"DATE\" VARCHAR(10), FOREIGN KEY (\"ORIGIN_AIRPORT\") REFERENCES \"Airports\" (\"IATA_CODE\"), FOREIGN KEY (\"DESTINATION_AIRPORT\") REFERENCES \"Airports\" (\"IATA_CODE\"), FOREIGN KEY (\"AIRLINE\") REFERENCES \"Airlines\" (\"IATA_CODE\"));')"
   ]
  },
  {
   "cell_type": "code",
   "execution_count": 51,
   "metadata": {},
   "outputs": [],
   "source": [
    "#Add UA Late Data Frame to UA Late Table"
   ]
  },
  {
   "cell_type": "code",
   "execution_count": 52,
   "metadata": {},
   "outputs": [
    {
     "data": {
      "text/plain": [
       "<sqlalchemy.engine.result.ResultProxy at 0x1a3c720ea20>"
      ]
     },
     "execution_count": 52,
     "metadata": {},
     "output_type": "execute_result"
    }
   ],
   "source": [
    "#Create AA Late Table\n",
    "pg_engine.execute('CREATE TABLE \"AA_Late\" (\"DAY_OF_WEEK\" VARCHAR(10), \"AIRLINE\" VARCHAR(2), \"FLIGHT_NUMBER\" INT, \"TAIL_NUMBER\" VARCHAR(6), \"ORIGIN_AIRPORT\" VARCHAR(3), \"DESTINATION_AIRPORT\" VARCHAR(3), \"SCHEDULED_DEPARTURE\" VARCHAR(5), \"DEPARTURE_TIME\" VARCHAR(5), \"DEPARTURE_DELAY\" VARCHAR(5), \"TAXI_OUT\" VARCHAR(5), \"WHEELS_OFF\" VARCHAR(5), \"SCHEDULED_TIME\" VARCHAR(5), \"ELAPSED_TIME\" VARCHAR(5), \"AIR_TIME\" VARCHAR(5), \"DISTANCE\" INT, \"WHEELS_ON\" VARCHAR(5), \"TAXI_IN\" VARCHAR(5), \"SCHEDULED_ARRIVAL\" VARCHAR(5), \"ARRIVAL_TIME\" VARCHAR(5), \"ARRIVAL_DELAY\" VARCHAR(5), \"TOTAL_DELAY\" VARCHAR(5), \"DATE\" VARCHAR(10), FOREIGN KEY (\"ORIGIN_AIRPORT\") REFERENCES \"Airports\" (\"IATA_CODE\"), FOREIGN KEY (\"DESTINATION_AIRPORT\") REFERENCES \"Airports\" (\"IATA_CODE\"), FOREIGN KEY (\"AIRLINE\") REFERENCES \"Airlines\" (\"IATA_CODE\"));')"
   ]
  },
  {
   "cell_type": "code",
   "execution_count": 53,
   "metadata": {},
   "outputs": [],
   "source": [
    "#Add AA Late Data Frame to AA Late Table"
   ]
  },
  {
   "cell_type": "code",
   "execution_count": 54,
   "metadata": {},
   "outputs": [
    {
     "data": {
      "text/plain": [
       "<sqlalchemy.engine.result.ResultProxy at 0x1a3c607a550>"
      ]
     },
     "execution_count": 54,
     "metadata": {},
     "output_type": "execute_result"
    }
   ],
   "source": [
    "#Create DL Late Table\n",
    "pg_engine.execute('CREATE TABLE \"DL_Late\" (\"DAY_OF_WEEK\" VARCHAR(10), \"AIRLINE\" VARCHAR(2), \"FLIGHT_NUMBER\" INT, \"TAIL_NUMBER\" VARCHAR(6), \"ORIGIN_AIRPORT\" VARCHAR(3), \"DESTINATION_AIRPORT\" VARCHAR(3), \"SCHEDULED_DEPARTURE\" VARCHAR(5), \"DEPARTURE_TIME\" VARCHAR(5), \"DEPARTURE_DELAY\" VARCHAR(5), \"TAXI_OUT\" VARCHAR(5), \"WHEELS_OFF\" VARCHAR(5), \"SCHEDULED_TIME\" VARCHAR(5), \"ELAPSED_TIME\" VARCHAR(5), \"AIR_TIME\" VARCHAR(5), \"DISTANCE\" INT, \"WHEELS_ON\" VARCHAR(5), \"TAXI_IN\" VARCHAR(5), \"SCHEDULED_ARRIVAL\" VARCHAR(5), \"ARRIVAL_TIME\" VARCHAR(5), \"ARRIVAL_DELAY\" VARCHAR(5), \"TOTAL_DELAY\" VARCHAR(5), \"DATE\" VARCHAR(10), FOREIGN KEY (\"ORIGIN_AIRPORT\") REFERENCES \"Airports\" (\"IATA_CODE\"), FOREIGN KEY (\"DESTINATION_AIRPORT\") REFERENCES \"Airports\" (\"IATA_CODE\"), FOREIGN KEY (\"AIRLINE\") REFERENCES \"Airlines\" (\"IATA_CODE\"));')"
   ]
  },
  {
   "cell_type": "code",
   "execution_count": 55,
   "metadata": {},
   "outputs": [],
   "source": [
    "#Add DL Late Data Frame to DL Late Table"
   ]
  },
  {
   "cell_type": "code",
   "execution_count": 56,
   "metadata": {},
   "outputs": [
    {
     "data": {
      "text/plain": [
       "<sqlalchemy.engine.result.ResultProxy at 0x1a3c607aa58>"
      ]
     },
     "execution_count": 56,
     "metadata": {},
     "output_type": "execute_result"
    }
   ],
   "source": [
    "#Create US Late Table\n",
    "pg_engine.execute('CREATE TABLE \"US_Late\" (\"DAY_OF_WEEK\" VARCHAR(10), \"AIRLINE\" VARCHAR(2), \"FLIGHT_NUMBER\" INT, \"TAIL_NUMBER\" VARCHAR(6), \"ORIGIN_AIRPORT\" VARCHAR(3), \"DESTINATION_AIRPORT\" VARCHAR(3), \"SCHEDULED_DEPARTURE\" VARCHAR(5), \"DEPARTURE_TIME\" VARCHAR(5), \"DEPARTURE_DELAY\" VARCHAR(5), \"TAXI_OUT\" VARCHAR(5), \"WHEELS_OFF\" VARCHAR(5), \"SCHEDULED_TIME\" VARCHAR(5), \"ELAPSED_TIME\" VARCHAR(5), \"AIR_TIME\" VARCHAR(5), \"DISTANCE\" INT, \"WHEELS_ON\" VARCHAR(5), \"TAXI_IN\" VARCHAR(5), \"SCHEDULED_ARRIVAL\" VARCHAR(5), \"ARRIVAL_TIME\" VARCHAR(5), \"ARRIVAL_DELAY\" VARCHAR(5), \"TOTAL_DELAY\" VARCHAR(5), \"DATE\" VARCHAR(10), FOREIGN KEY (\"ORIGIN_AIRPORT\") REFERENCES \"Airports\" (\"IATA_CODE\"), FOREIGN KEY (\"DESTINATION_AIRPORT\") REFERENCES \"Airports\" (\"IATA_CODE\"), FOREIGN KEY (\"AIRLINE\") REFERENCES \"Airlines\" (\"IATA_CODE\"));')"
   ]
  },
  {
   "cell_type": "code",
   "execution_count": 57,
   "metadata": {},
   "outputs": [],
   "source": [
    "#Add US Late Data Frame to US Late Table"
   ]
  },
  {
   "cell_type": "code",
   "execution_count": 58,
   "metadata": {},
   "outputs": [
    {
     "data": {
      "text/plain": [
       "<sqlalchemy.engine.result.ResultProxy at 0x1a3c720e4a8>"
      ]
     },
     "execution_count": 58,
     "metadata": {},
     "output_type": "execute_result"
    }
   ],
   "source": [
    "#Create WN Late Table\n",
    "pg_engine.execute('CREATE TABLE \"WN_Late\" (\"DAY_OF_WEEK\" VARCHAR(10), \"AIRLINE\" VARCHAR(2), \"FLIGHT_NUMBER\" INT, \"TAIL_NUMBER\" VARCHAR(6), \"ORIGIN_AIRPORT\" VARCHAR(3), \"DESTINATION_AIRPORT\" VARCHAR(3), \"SCHEDULED_DEPARTURE\" VARCHAR(5), \"DEPARTURE_TIME\" VARCHAR(5), \"DEPARTURE_DELAY\" VARCHAR(5), \"TAXI_OUT\" VARCHAR(5), \"WHEELS_OFF\" VARCHAR(5), \"SCHEDULED_TIME\" VARCHAR(5), \"ELAPSED_TIME\" VARCHAR(5), \"AIR_TIME\" VARCHAR(5), \"DISTANCE\" INT, \"WHEELS_ON\" VARCHAR(5), \"TAXI_IN\" VARCHAR(5), \"SCHEDULED_ARRIVAL\" VARCHAR(5), \"ARRIVAL_TIME\" VARCHAR(5), \"ARRIVAL_DELAY\" VARCHAR(5), \"TOTAL_DELAY\" VARCHAR(5), \"DATE\" VARCHAR(10), FOREIGN KEY (\"ORIGIN_AIRPORT\") REFERENCES \"Airports\" (\"IATA_CODE\"), FOREIGN KEY (\"DESTINATION_AIRPORT\") REFERENCES \"Airports\" (\"IATA_CODE\"), FOREIGN KEY (\"AIRLINE\") REFERENCES \"Airlines\" (\"IATA_CODE\"));')"
   ]
  },
  {
   "cell_type": "code",
   "execution_count": 59,
   "metadata": {},
   "outputs": [],
   "source": [
    "#Add WN Late Data Frame to WN Late Table"
   ]
  },
  {
   "cell_type": "code",
   "execution_count": 60,
   "metadata": {},
   "outputs": [
    {
     "data": {
      "text/plain": [
       "<sqlalchemy.engine.result.ResultProxy at 0x1a3c72170f0>"
      ]
     },
     "execution_count": 60,
     "metadata": {},
     "output_type": "execute_result"
    }
   ],
   "source": [
    "#Create VX Late Table\n",
    "pg_engine.execute('CREATE TABLE \"VX_Late\" (\"DAY_OF_WEEK\" VARCHAR(10), \"AIRLINE\" VARCHAR(2), \"FLIGHT_NUMBER\" INT, \"TAIL_NUMBER\" VARCHAR(6), \"ORIGIN_AIRPORT\" VARCHAR(3), \"DESTINATION_AIRPORT\" VARCHAR(3), \"SCHEDULED_DEPARTURE\" VARCHAR(5), \"DEPARTURE_TIME\" VARCHAR(5), \"DEPARTURE_DELAY\" VARCHAR(5), \"TAXI_OUT\" VARCHAR(5), \"WHEELS_OFF\" VARCHAR(5), \"SCHEDULED_TIME\" VARCHAR(5), \"ELAPSED_TIME\" VARCHAR(5), \"AIR_TIME\" VARCHAR(5), \"DISTANCE\" INT, \"WHEELS_ON\" VARCHAR(5), \"TAXI_IN\" VARCHAR(5), \"SCHEDULED_ARRIVAL\" VARCHAR(5), \"ARRIVAL_TIME\" VARCHAR(5), \"ARRIVAL_DELAY\" VARCHAR(5), \"TOTAL_DELAY\" VARCHAR(5), \"DATE\" VARCHAR(10), FOREIGN KEY (\"ORIGIN_AIRPORT\") REFERENCES \"Airports\" (\"IATA_CODE\"), FOREIGN KEY (\"DESTINATION_AIRPORT\") REFERENCES \"Airports\" (\"IATA_CODE\"), FOREIGN KEY (\"AIRLINE\") REFERENCES \"Airlines\" (\"IATA_CODE\"));')"
   ]
  },
  {
   "cell_type": "code",
   "execution_count": 61,
   "metadata": {},
   "outputs": [],
   "source": [
    "#Add VX Late Data Frame to VX Late Table"
   ]
  },
  {
   "cell_type": "code",
   "execution_count": 62,
   "metadata": {},
   "outputs": [
    {
     "data": {
      "text/plain": [
       "<sqlalchemy.engine.result.ResultProxy at 0x1a3c7217c18>"
      ]
     },
     "execution_count": 62,
     "metadata": {},
     "output_type": "execute_result"
    }
   ],
   "source": [
    "#Create UA Diverted Table\n",
    "pg_engine.execute('CREATE TABLE \"UA_Diverted\" (\"DAY_OF_WEEK\" VARCHAR(10), \"AIRLINE\" VARCHAR(2), \"FLIGHT_NUMBER\" INT, \"TAIL_NUMBER\" VARCHAR(6), \"ORIGIN_AIRPORT\" VARCHAR(3), \"DESTINATION_AIRPORT\" VARCHAR(3), \"SCHEDULED_DEPARTURE\" VARCHAR(5), \"DEPARTURE_TIME\" VARCHAR(5), \"DEPARTURE_DELAY\" VARCHAR(5), \"TAXI_OUT\" VARCHAR(5), \"WHEELS_OFF\" VARCHAR(5), \"SCHEDULED_TIME\" VARCHAR(5), \"DISTANCE\" INT, \"WHEELS_ON\" VARCHAR(5), \"TAXI_IN\" VARCHAR(5), \"SCHEDULED_ARRIVAL\" VARCHAR(5), \"ARRIVAL_TIME\" VARCHAR(5), \"DATE\" VARCHAR(10), FOREIGN KEY (\"ORIGIN_AIRPORT\") REFERENCES \"Airports\" (\"IATA_CODE\"), FOREIGN KEY (\"DESTINATION_AIRPORT\") REFERENCES \"Airports\" (\"IATA_CODE\"), FOREIGN KEY (\"AIRLINE\") REFERENCES \"Airlines\" (\"IATA_CODE\"));')"
   ]
  },
  {
   "cell_type": "code",
   "execution_count": 63,
   "metadata": {},
   "outputs": [],
   "source": [
    "#Add UA Diverted Data Frame to UA Diverted Table"
   ]
  },
  {
   "cell_type": "code",
   "execution_count": 64,
   "metadata": {},
   "outputs": [
    {
     "data": {
      "text/plain": [
       "<sqlalchemy.engine.result.ResultProxy at 0x1a3c72196a0>"
      ]
     },
     "execution_count": 64,
     "metadata": {},
     "output_type": "execute_result"
    }
   ],
   "source": [
    "#Create AA Diverted Table\n",
    "pg_engine.execute('CREATE TABLE \"AA_Diverted\" (\"DAY_OF_WEEK\" VARCHAR(10), \"AIRLINE\" VARCHAR(2), \"FLIGHT_NUMBER\" INT, \"TAIL_NUMBER\" VARCHAR(6), \"ORIGIN_AIRPORT\" VARCHAR(3), \"DESTINATION_AIRPORT\" VARCHAR(3), \"SCHEDULED_DEPARTURE\" VARCHAR(5), \"DEPARTURE_TIME\" VARCHAR(5), \"DEPARTURE_DELAY\" VARCHAR(5), \"TAXI_OUT\" VARCHAR(5), \"WHEELS_OFF\" VARCHAR(5), \"SCHEDULED_TIME\" VARCHAR(5), \"DISTANCE\" INT, \"WHEELS_ON\" VARCHAR(5), \"TAXI_IN\" VARCHAR(5), \"SCHEDULED_ARRIVAL\" VARCHAR(5), \"ARRIVAL_TIME\" VARCHAR(5), \"DATE\" VARCHAR(10), FOREIGN KEY (\"ORIGIN_AIRPORT\") REFERENCES \"Airports\" (\"IATA_CODE\"), FOREIGN KEY (\"DESTINATION_AIRPORT\") REFERENCES \"Airports\" (\"IATA_CODE\"), FOREIGN KEY (\"AIRLINE\") REFERENCES \"Airlines\" (\"IATA_CODE\"));')"
   ]
  },
  {
   "cell_type": "code",
   "execution_count": 65,
   "metadata": {},
   "outputs": [],
   "source": [
    "#Add AA Diverted Data Frame to AA Diverted Table"
   ]
  },
  {
   "cell_type": "code",
   "execution_count": 66,
   "metadata": {},
   "outputs": [
    {
     "data": {
      "text/plain": [
       "<sqlalchemy.engine.result.ResultProxy at 0x1a3c607f128>"
      ]
     },
     "execution_count": 66,
     "metadata": {},
     "output_type": "execute_result"
    }
   ],
   "source": [
    "#Create DL Diverted Table\n",
    "pg_engine.execute('CREATE TABLE \"DL_Diverted\" (\"DAY_OF_WEEK\" VARCHAR(10), \"AIRLINE\" VARCHAR(2), \"FLIGHT_NUMBER\" INT, \"TAIL_NUMBER\" VARCHAR(6), \"ORIGIN_AIRPORT\" VARCHAR(3), \"DESTINATION_AIRPORT\" VARCHAR(3), \"SCHEDULED_DEPARTURE\" VARCHAR(5), \"DEPARTURE_TIME\" VARCHAR(5), \"DEPARTURE_DELAY\" VARCHAR(5), \"TAXI_OUT\" VARCHAR(5), \"WHEELS_OFF\" VARCHAR(5), \"SCHEDULED_TIME\" VARCHAR(5), \"DISTANCE\" INT, \"WHEELS_ON\" VARCHAR(5), \"TAXI_IN\" VARCHAR(5), \"SCHEDULED_ARRIVAL\" VARCHAR(5), \"ARRIVAL_TIME\" VARCHAR(5), \"DATE\" VARCHAR(10), FOREIGN KEY (\"ORIGIN_AIRPORT\") REFERENCES \"Airports\" (\"IATA_CODE\"), FOREIGN KEY (\"DESTINATION_AIRPORT\") REFERENCES \"Airports\" (\"IATA_CODE\"), FOREIGN KEY (\"AIRLINE\") REFERENCES \"Airlines\" (\"IATA_CODE\"));')"
   ]
  },
  {
   "cell_type": "code",
   "execution_count": 67,
   "metadata": {},
   "outputs": [],
   "source": [
    "#Add DL Diverted Data Frame to DL Diverted Table"
   ]
  },
  {
   "cell_type": "code",
   "execution_count": 68,
   "metadata": {},
   "outputs": [
    {
     "data": {
      "text/plain": [
       "<sqlalchemy.engine.result.ResultProxy at 0x1a3c72197b8>"
      ]
     },
     "execution_count": 68,
     "metadata": {},
     "output_type": "execute_result"
    }
   ],
   "source": [
    "#Create US Diverted Table\n",
    "pg_engine.execute('CREATE TABLE \"US_Diverted\" (\"DAY_OF_WEEK\" VARCHAR(10), \"AIRLINE\" VARCHAR(2), \"FLIGHT_NUMBER\" INT, \"TAIL_NUMBER\" VARCHAR(6), \"ORIGIN_AIRPORT\" VARCHAR(3), \"DESTINATION_AIRPORT\" VARCHAR(3), \"SCHEDULED_DEPARTURE\" VARCHAR(5), \"DEPARTURE_TIME\" VARCHAR(5), \"DEPARTURE_DELAY\" VARCHAR(5), \"TAXI_OUT\" VARCHAR(5), \"WHEELS_OFF\" VARCHAR(5), \"SCHEDULED_TIME\" VARCHAR(5), \"DISTANCE\" INT, \"WHEELS_ON\" VARCHAR(5), \"TAXI_IN\" VARCHAR(5), \"SCHEDULED_ARRIVAL\" VARCHAR(5), \"ARRIVAL_TIME\" VARCHAR(5), \"DATE\" VARCHAR(10), FOREIGN KEY (\"ORIGIN_AIRPORT\") REFERENCES \"Airports\" (\"IATA_CODE\"), FOREIGN KEY (\"DESTINATION_AIRPORT\") REFERENCES \"Airports\" (\"IATA_CODE\"), FOREIGN KEY (\"AIRLINE\") REFERENCES \"Airlines\" (\"IATA_CODE\"));')"
   ]
  },
  {
   "cell_type": "code",
   "execution_count": 69,
   "metadata": {},
   "outputs": [],
   "source": [
    "#Add US Diverted Data Frame to US Diverted Table"
   ]
  },
  {
   "cell_type": "code",
   "execution_count": 70,
   "metadata": {},
   "outputs": [
    {
     "data": {
      "text/plain": [
       "<sqlalchemy.engine.result.ResultProxy at 0x1a3c720ec18>"
      ]
     },
     "execution_count": 70,
     "metadata": {},
     "output_type": "execute_result"
    }
   ],
   "source": [
    "#Create WN Diverted Table\n",
    "pg_engine.execute('CREATE TABLE \"WN_Diverted\" (\"DAY_OF_WEEK\" VARCHAR(10), \"AIRLINE\" VARCHAR(2), \"FLIGHT_NUMBER\" INT, \"TAIL_NUMBER\" VARCHAR(6), \"ORIGIN_AIRPORT\" VARCHAR(3), \"DESTINATION_AIRPORT\" VARCHAR(3), \"SCHEDULED_DEPARTURE\" VARCHAR(5), \"DEPARTURE_TIME\" VARCHAR(5), \"DEPARTURE_DELAY\" VARCHAR(5), \"TAXI_OUT\" VARCHAR(5), \"WHEELS_OFF\" VARCHAR(5), \"SCHEDULED_TIME\" VARCHAR(5), \"DISTANCE\" INT, \"WHEELS_ON\" VARCHAR(5), \"TAXI_IN\" VARCHAR(5), \"SCHEDULED_ARRIVAL\" VARCHAR(5), \"ARRIVAL_TIME\" VARCHAR(5), \"DATE\" VARCHAR(10), FOREIGN KEY (\"ORIGIN_AIRPORT\") REFERENCES \"Airports\" (\"IATA_CODE\"), FOREIGN KEY (\"DESTINATION_AIRPORT\") REFERENCES \"Airports\" (\"IATA_CODE\"), FOREIGN KEY (\"AIRLINE\") REFERENCES \"Airlines\" (\"IATA_CODE\"));')"
   ]
  },
  {
   "cell_type": "code",
   "execution_count": 71,
   "metadata": {},
   "outputs": [],
   "source": [
    "#Add WN Diverted Data Frame to WN Diverted Table"
   ]
  },
  {
   "cell_type": "code",
   "execution_count": 72,
   "metadata": {},
   "outputs": [
    {
     "data": {
      "text/plain": [
       "<sqlalchemy.engine.result.ResultProxy at 0x1a3c7204c50>"
      ]
     },
     "execution_count": 72,
     "metadata": {},
     "output_type": "execute_result"
    }
   ],
   "source": [
    "#Create VX Diverted Table\n",
    "pg_engine.execute('CREATE TABLE \"VX_Diverted\" (\"DAY_OF_WEEK\" VARCHAR(10), \"AIRLINE\" VARCHAR(2), \"FLIGHT_NUMBER\" INT, \"TAIL_NUMBER\" VARCHAR(6), \"ORIGIN_AIRPORT\" VARCHAR(3), \"DESTINATION_AIRPORT\" VARCHAR(3), \"SCHEDULED_DEPARTURE\" VARCHAR(5), \"DEPARTURE_TIME\" VARCHAR(5), \"DEPARTURE_DELAY\" VARCHAR(5), \"TAXI_OUT\" VARCHAR(5), \"WHEELS_OFF\" VARCHAR(5), \"SCHEDULED_TIME\" VARCHAR(5), \"DISTANCE\" INT, \"WHEELS_ON\" VARCHAR(5), \"TAXI_IN\" VARCHAR(5), \"SCHEDULED_ARRIVAL\" VARCHAR(5), \"ARRIVAL_TIME\" VARCHAR(5), \"DATE\" VARCHAR(10), FOREIGN KEY (\"ORIGIN_AIRPORT\") REFERENCES \"Airports\" (\"IATA_CODE\"), FOREIGN KEY (\"DESTINATION_AIRPORT\") REFERENCES \"Airports\" (\"IATA_CODE\"), FOREIGN KEY (\"AIRLINE\") REFERENCES \"Airlines\" (\"IATA_CODE\"));')"
   ]
  },
  {
   "cell_type": "code",
   "execution_count": 73,
   "metadata": {},
   "outputs": [],
   "source": [
    "#Add VX Diverted Data Frame to VX Diverted Table"
   ]
  },
  {
   "cell_type": "code",
   "execution_count": 74,
   "metadata": {},
   "outputs": [
    {
     "data": {
      "text/plain": [
       "<sqlalchemy.engine.result.ResultProxy at 0x1a3c71f6b38>"
      ]
     },
     "execution_count": 74,
     "metadata": {},
     "output_type": "execute_result"
    }
   ],
   "source": [
    "#Create UA Cancelled Table\n",
    "pg_engine.execute('CREATE TABLE \"UA_Cancelled\" (\"DAY_OF_WEEK\" VARCHAR(10), \"AIRLINE\" VARCHAR(2), \"FLIGHT_NUMBER\" INT, \"TAIL_NUMBER\" VARCHAR(6), \"ORIGIN_AIRPORT\" VARCHAR(3), \"DESTINATION_AIRPORT\" VARCHAR(3), \"SCHEDULED_DEPARTURE\" VARCHAR(5), \"SCHEDULED_TIME\" VARCHAR(5), \"DISTANCE\" INT, \"SCHEDULED_ARRIVAL\" VARCHAR(5), \"DATE\" VARCHAR(10), FOREIGN KEY (\"ORIGIN_AIRPORT\") REFERENCES \"Airports\" (\"IATA_CODE\"), FOREIGN KEY (\"DESTINATION_AIRPORT\") REFERENCES \"Airports\" (\"IATA_CODE\"), FOREIGN KEY (\"AIRLINE\") REFERENCES \"Airlines\" (\"IATA_CODE\"));')"
   ]
  },
  {
   "cell_type": "code",
   "execution_count": 75,
   "metadata": {},
   "outputs": [],
   "source": [
    "#Add UA Cancelled Data Frame to UA Cancelled Table"
   ]
  },
  {
   "cell_type": "code",
   "execution_count": 76,
   "metadata": {},
   "outputs": [
    {
     "data": {
      "text/plain": [
       "<sqlalchemy.engine.result.ResultProxy at 0x1a3c61fd588>"
      ]
     },
     "execution_count": 76,
     "metadata": {},
     "output_type": "execute_result"
    }
   ],
   "source": [
    "#Create AA Cancelled Table\n",
    "pg_engine.execute('CREATE TABLE \"AA_Cancelled\" (\"DAY_OF_WEEK\" VARCHAR(10), \"AIRLINE\" VARCHAR(2), \"FLIGHT_NUMBER\" INT, \"TAIL_NUMBER\" VARCHAR(6), \"ORIGIN_AIRPORT\" VARCHAR(3), \"DESTINATION_AIRPORT\" VARCHAR(3), \"SCHEDULED_DEPARTURE\" VARCHAR(5), \"SCHEDULED_TIME\" VARCHAR(5), \"DISTANCE\" INT, \"SCHEDULED_ARRIVAL\" VARCHAR(5), \"DATE\" VARCHAR(10), FOREIGN KEY (\"ORIGIN_AIRPORT\") REFERENCES \"Airports\" (\"IATA_CODE\"), FOREIGN KEY (\"DESTINATION_AIRPORT\") REFERENCES \"Airports\" (\"IATA_CODE\"), FOREIGN KEY (\"AIRLINE\") REFERENCES \"Airlines\" (\"IATA_CODE\"));')"
   ]
  },
  {
   "cell_type": "code",
   "execution_count": 77,
   "metadata": {},
   "outputs": [],
   "source": [
    "#Add AA Cancelled Data Frame to AA Cancelled Table"
   ]
  },
  {
   "cell_type": "code",
   "execution_count": 78,
   "metadata": {},
   "outputs": [
    {
     "data": {
      "text/plain": [
       "<sqlalchemy.engine.result.ResultProxy at 0x1a3c607f358>"
      ]
     },
     "execution_count": 78,
     "metadata": {},
     "output_type": "execute_result"
    }
   ],
   "source": [
    "#Create DL Cancelled Table\n",
    "pg_engine.execute('CREATE TABLE \"DL_Cancelled\" (\"DAY_OF_WEEK\" VARCHAR(10), \"AIRLINE\" VARCHAR(2), \"FLIGHT_NUMBER\" INT, \"TAIL_NUMBER\" VARCHAR(6), \"ORIGIN_AIRPORT\" VARCHAR(3), \"DESTINATION_AIRPORT\" VARCHAR(3), \"SCHEDULED_DEPARTURE\" VARCHAR(5), \"SCHEDULED_TIME\" VARCHAR(5), \"DISTANCE\" INT, \"SCHEDULED_ARRIVAL\" VARCHAR(5), \"DATE\" VARCHAR(10), FOREIGN KEY (\"ORIGIN_AIRPORT\") REFERENCES \"Airports\" (\"IATA_CODE\"), FOREIGN KEY (\"DESTINATION_AIRPORT\") REFERENCES \"Airports\" (\"IATA_CODE\"), FOREIGN KEY (\"AIRLINE\") REFERENCES \"Airlines\" (\"IATA_CODE\"));')"
   ]
  },
  {
   "cell_type": "code",
   "execution_count": 79,
   "metadata": {},
   "outputs": [],
   "source": [
    "#Add DL Cancelled Data Frame to DL Cancelled Table"
   ]
  },
  {
   "cell_type": "code",
   "execution_count": 80,
   "metadata": {},
   "outputs": [
    {
     "data": {
      "text/plain": [
       "<sqlalchemy.engine.result.ResultProxy at 0x1a3c607ff60>"
      ]
     },
     "execution_count": 80,
     "metadata": {},
     "output_type": "execute_result"
    }
   ],
   "source": [
    "#Create US Cancelled Table\n",
    "pg_engine.execute('CREATE TABLE \"US_Cancelled\" (\"DAY_OF_WEEK\" VARCHAR(10), \"AIRLINE\" VARCHAR(2), \"FLIGHT_NUMBER\" INT, \"TAIL_NUMBER\" VARCHAR(6), \"ORIGIN_AIRPORT\" VARCHAR(3), \"DESTINATION_AIRPORT\" VARCHAR(3), \"SCHEDULED_DEPARTURE\" VARCHAR(5), \"SCHEDULED_TIME\" VARCHAR(5), \"DISTANCE\" INT, \"SCHEDULED_ARRIVAL\" VARCHAR(5), \"DATE\" VARCHAR(10), FOREIGN KEY (\"ORIGIN_AIRPORT\") REFERENCES \"Airports\" (\"IATA_CODE\"), FOREIGN KEY (\"DESTINATION_AIRPORT\") REFERENCES \"Airports\" (\"IATA_CODE\"), FOREIGN KEY (\"AIRLINE\") REFERENCES \"Airlines\" (\"IATA_CODE\"));')"
   ]
  },
  {
   "cell_type": "code",
   "execution_count": 81,
   "metadata": {},
   "outputs": [],
   "source": [
    "#Add US Cancelled Data Frame to US Cancelled Table"
   ]
  },
  {
   "cell_type": "code",
   "execution_count": 82,
   "metadata": {},
   "outputs": [
    {
     "data": {
      "text/plain": [
       "<sqlalchemy.engine.result.ResultProxy at 0x1a3c72215f8>"
      ]
     },
     "execution_count": 82,
     "metadata": {},
     "output_type": "execute_result"
    }
   ],
   "source": [
    "#Create WN Cancelled Table\n",
    "pg_engine.execute('CREATE TABLE \"WN_Cancelled\" (\"DAY_OF_WEEK\" VARCHAR(10), \"AIRLINE\" VARCHAR(2), \"FLIGHT_NUMBER\" INT, \"TAIL_NUMBER\" VARCHAR(6), \"ORIGIN_AIRPORT\" VARCHAR(3), \"DESTINATION_AIRPORT\" VARCHAR(3), \"SCHEDULED_DEPARTURE\" VARCHAR(5), \"SCHEDULED_TIME\" VARCHAR(5), \"DISTANCE\" INT, \"SCHEDULED_ARRIVAL\" VARCHAR(5), \"DATE\" VARCHAR(10), FOREIGN KEY (\"ORIGIN_AIRPORT\") REFERENCES \"Airports\" (\"IATA_CODE\"), FOREIGN KEY (\"DESTINATION_AIRPORT\") REFERENCES \"Airports\" (\"IATA_CODE\"), FOREIGN KEY (\"AIRLINE\") REFERENCES \"Airlines\" (\"IATA_CODE\"));')"
   ]
  },
  {
   "cell_type": "code",
   "execution_count": 83,
   "metadata": {},
   "outputs": [],
   "source": [
    "#Add WN Cancelled Data Frame to WN Cancelled Table"
   ]
  },
  {
   "cell_type": "code",
   "execution_count": 84,
   "metadata": {},
   "outputs": [
    {
     "data": {
      "text/plain": [
       "<sqlalchemy.engine.result.ResultProxy at 0x1a3c5f1b9b0>"
      ]
     },
     "execution_count": 84,
     "metadata": {},
     "output_type": "execute_result"
    }
   ],
   "source": [
    "#Create VX Cancelled Table\n",
    "pg_engine.execute('CREATE TABLE \"VX_Cancelled\" (\"DAY_OF_WEEK\" VARCHAR(10), \"AIRLINE\" VARCHAR(2), \"FLIGHT_NUMBER\" INT, \"TAIL_NUMBER\" VARCHAR(6), \"ORIGIN_AIRPORT\" VARCHAR(3), \"DESTINATION_AIRPORT\" VARCHAR(3), \"SCHEDULED_DEPARTURE\" VARCHAR(5), \"SCHEDULED_TIME\" VARCHAR(5), \"DISTANCE\" INT, \"SCHEDULED_ARRIVAL\" VARCHAR(5), \"DATE\" VARCHAR(10), FOREIGN KEY (\"ORIGIN_AIRPORT\") REFERENCES \"Airports\" (\"IATA_CODE\"), FOREIGN KEY (\"DESTINATION_AIRPORT\") REFERENCES \"Airports\" (\"IATA_CODE\"), FOREIGN KEY (\"AIRLINE\") REFERENCES \"Airlines\" (\"IATA_CODE\"));')"
   ]
  },
  {
   "cell_type": "code",
   "execution_count": 85,
   "metadata": {},
   "outputs": [],
   "source": [
    "#Add VX Cancelled Data Frame to VX Cancelled Table"
   ]
  },
  {
   "cell_type": "code",
   "execution_count": 89,
   "metadata": {},
   "outputs": [
    {
     "data": {
      "text/plain": [
       "<sqlalchemy.engine.result.ResultProxy at 0x1a3c607fe48>"
      ]
     },
     "execution_count": 89,
     "metadata": {},
     "output_type": "execute_result"
    }
   ],
   "source": [
    "#Create UA Positive Table\n",
    "pg_engine.execute('CREATE TABLE \"UA_Positive\" (\"tweet_id\" VARCHAR(100) PRIMARY KEY, \"airline_sentiment\" VARCHAR(10), \"airline_sentiment_confidence\" FLOAT, \"airline\" VARCHAR(2), \"name\" VARCHAR(50), \"retweet_count\" INT, \"text\" VARCHAR(300), \"tweet_date\" VARCHAR(10), \"tweet_time\" VARCHAR(5), FOREIGN KEY (\"airline\") REFERENCES \"Airlines\" (\"IATA_CODE\"));')"
   ]
  },
  {
   "cell_type": "code",
   "execution_count": 1,
   "metadata": {},
   "outputs": [],
   "source": [
    "#Add UA Positive Data Frame to UA Positive Table"
   ]
  },
  {
   "cell_type": "code",
   "execution_count": null,
   "metadata": {},
   "outputs": [],
   "source": [
    "#Create AA Positive Table\n",
    "pg_engine.execute('CREATE TABLE \"AA_Positive\" (\"tweet_id\" VARCHAR(100) PRIMARY KEY, \"airline_sentiment\" VARCHAR(10), \"airline_sentiment_confidence\" FLOAT, \"airline\" VARCHAR(2), \"name\" VARCHAR(50), \"retweet_count\" INT, \"text\" VARCHAR(300), \"tweet_date\" VARCHAR(10), \"tweet_time\" VARCHAR(5), FOREIGN KEY (\"airline\") REFERENCES \"Airlines\" (\"IATA_CODE\"));')"
   ]
  },
  {
   "cell_type": "code",
   "execution_count": null,
   "metadata": {},
   "outputs": [],
   "source": [
    "#Add AA Positive Data Frame to AA Positive Table"
   ]
  },
  {
   "cell_type": "code",
   "execution_count": null,
   "metadata": {},
   "outputs": [],
   "source": [
    "#Create DL Positive Table\n",
    "pg_engine.execute('CREATE TABLE \"DL_Positive\" (\"tweet_id\" VARCHAR(100) PRIMARY KEY, \"airline_sentiment\" VARCHAR(10), \"airline_sentiment_confidence\" FLOAT, \"airline\" VARCHAR(2), \"name\" VARCHAR(50), \"retweet_count\" INT, \"text\" VARCHAR(300), \"tweet_date\" VARCHAR(10), \"tweet_time\" VARCHAR(5), FOREIGN KEY (\"airline\") REFERENCES \"Airlines\" (\"IATA_CODE\"));')"
   ]
  },
  {
   "cell_type": "code",
   "execution_count": null,
   "metadata": {},
   "outputs": [],
   "source": [
    "#Add DL Positive Data Frame to DL Positive Table"
   ]
  },
  {
   "cell_type": "code",
   "execution_count": null,
   "metadata": {},
   "outputs": [],
   "source": [
    "#Create US Positive Table\n",
    "pg_engine.execute('CREATE TABLE \"US_Positive\" (\"tweet_id\" VARCHAR(100) PRIMARY KEY, \"airline_sentiment\" VARCHAR(10), \"airline_sentiment_confidence\" FLOAT, \"airline\" VARCHAR(2), \"name\" VARCHAR(50), \"retweet_count\" INT, \"text\" VARCHAR(300), \"tweet_date\" VARCHAR(10), \"tweet_time\" VARCHAR(5), FOREIGN KEY (\"airline\") REFERENCES \"Airlines\" (\"IATA_CODE\"));')"
   ]
  },
  {
   "cell_type": "code",
   "execution_count": null,
   "metadata": {},
   "outputs": [],
   "source": [
    "#Add US Positive Data Frame to US Positive Table"
   ]
  },
  {
   "cell_type": "code",
   "execution_count": null,
   "metadata": {},
   "outputs": [],
   "source": [
    "#Create WN Positive Table\n",
    "pg_engine.execute('CREATE TABLE \"WN_Positive\" (\"tweet_id\" VARCHAR(100) PRIMARY KEY, \"airline_sentiment\" VARCHAR(10), \"airline_sentiment_confidence\" FLOAT, \"airline\" VARCHAR(2), \"name\" VARCHAR(50), \"retweet_count\" INT, \"text\" VARCHAR(300), \"tweet_date\" VARCHAR(10), \"tweet_time\" VARCHAR(5), FOREIGN KEY (\"airline\") REFERENCES \"Airlines\" (\"IATA_CODE\"));')"
   ]
  },
  {
   "cell_type": "code",
   "execution_count": null,
   "metadata": {},
   "outputs": [],
   "source": [
    "#Add WN Positive Data Frame to WN Positive Table"
   ]
  },
  {
   "cell_type": "code",
   "execution_count": null,
   "metadata": {},
   "outputs": [],
   "source": [
    "#Create VX Positive Table\n",
    "pg_engine.execute('CREATE TABLE \"VX_Positive\" (\"tweet_id\" VARCHAR(100) PRIMARY KEY, \"airline_sentiment\" VARCHAR(10), \"airline_sentiment_confidence\" FLOAT, \"airline\" VARCHAR(2), \"name\" VARCHAR(50), \"retweet_count\" INT, \"text\" VARCHAR(300), \"tweet_date\" VARCHAR(10), \"tweet_time\" VARCHAR(5), FOREIGN KEY (\"airline\") REFERENCES \"Airlines\" (\"IATA_CODE\"));')"
   ]
  },
  {
   "cell_type": "code",
   "execution_count": null,
   "metadata": {},
   "outputs": [],
   "source": [
    "#Add VX Positive Data Frame to VX Positive Table"
   ]
  },
  {
   "cell_type": "code",
   "execution_count": null,
   "metadata": {},
   "outputs": [],
   "source": [
    "#Create UA Neutral Table\n",
    "pg_engine.execute('CREATE TABLE \"UA_Neutral\" (\"tweet_id\" VARCHAR(100) PRIMARY KEY, \"airline_sentiment\" VARCHAR(10), \"airline_sentiment_confidence\" FLOAT, \"airline\" VARCHAR(2), \"name\" VARCHAR(50), \"retweet_count\" INT, \"text\" VARCHAR(300), \"tweet_date\" VARCHAR(10), \"tweet_time\" VARCHAR(5), FOREIGN KEY (\"airline\") REFERENCES \"Airlines\" (\"IATA_CODE\"));')"
   ]
  },
  {
   "cell_type": "code",
   "execution_count": null,
   "metadata": {},
   "outputs": [],
   "source": [
    "#Add UA Neutral Data Frame to UA Neutral Table"
   ]
  },
  {
   "cell_type": "code",
   "execution_count": null,
   "metadata": {},
   "outputs": [],
   "source": [
    "#Create AA Neutral Table\n",
    "pg_engine.execute('CREATE TABLE \"AA_Neutral\" (\"tweet_id\" VARCHAR(100) PRIMARY KEY, \"airline_sentiment\" VARCHAR(10), \"airline_sentiment_confidence\" FLOAT, \"airline\" VARCHAR(2), \"name\" VARCHAR(50), \"retweet_count\" INT, \"text\" VARCHAR(300), \"tweet_date\" VARCHAR(10), \"tweet_time\" VARCHAR(5), FOREIGN KEY (\"airline\") REFERENCES \"Airlines\" (\"IATA_CODE\"));')"
   ]
  },
  {
   "cell_type": "code",
   "execution_count": null,
   "metadata": {},
   "outputs": [],
   "source": [
    "#Add AA Neutral Data Frame to AA Neutral Table"
   ]
  },
  {
   "cell_type": "code",
   "execution_count": null,
   "metadata": {},
   "outputs": [],
   "source": [
    "#Create DL Neutral Table\n",
    "pg_engine.execute('CREATE TABLE \"DL_Neutral\" (\"tweet_id\" VARCHAR(100) PRIMARY KEY, \"airline_sentiment\" VARCHAR(10), \"airline_sentiment_confidence\" FLOAT, \"airline\" VARCHAR(2), \"name\" VARCHAR(50), \"retweet_count\" INT, \"text\" VARCHAR(300), \"tweet_date\" VARCHAR(10), \"tweet_time\" VARCHAR(5), FOREIGN KEY (\"airline\") REFERENCES \"Airlines\" (\"IATA_CODE\"));')"
   ]
  },
  {
   "cell_type": "code",
   "execution_count": null,
   "metadata": {},
   "outputs": [],
   "source": [
    "#Add DL Neutral Data Frame to DL Neutral Table"
   ]
  },
  {
   "cell_type": "code",
   "execution_count": null,
   "metadata": {},
   "outputs": [],
   "source": [
    "#Create US Neutral Table\n",
    "pg_engine.execute('CREATE TABLE \"US_Neutral\" (\"tweet_id\" VARCHAR(100) PRIMARY KEY, \"airline_sentiment\" VARCHAR(10), \"airline_sentiment_confidence\" FLOAT, \"airline\" VARCHAR(2), \"name\" VARCHAR(50), \"retweet_count\" INT, \"text\" VARCHAR(300), \"tweet_date\" VARCHAR(10), \"tweet_time\" VARCHAR(5), FOREIGN KEY (\"airline\") REFERENCES \"Airlines\" (\"IATA_CODE\"));')"
   ]
  },
  {
   "cell_type": "code",
   "execution_count": null,
   "metadata": {},
   "outputs": [],
   "source": [
    "#Add US Neutral Data Frame to US Neutral Table"
   ]
  },
  {
   "cell_type": "code",
   "execution_count": null,
   "metadata": {},
   "outputs": [],
   "source": [
    "#Create WN Neutral Table\n",
    "pg_engine.execute('CREATE TABLE \"WN_Neutral\" (\"tweet_id\" VARCHAR(100) PRIMARY KEY, \"airline_sentiment\" VARCHAR(10), \"airline_sentiment_confidence\" FLOAT, \"airline\" VARCHAR(2), \"name\" VARCHAR(50), \"retweet_count\" INT, \"text\" VARCHAR(300), \"tweet_date\" VARCHAR(10), \"tweet_time\" VARCHAR(5), FOREIGN KEY (\"airline\") REFERENCES \"Airlines\" (\"IATA_CODE\"));')"
   ]
  },
  {
   "cell_type": "code",
   "execution_count": null,
   "metadata": {},
   "outputs": [],
   "source": [
    "#Add WN Neutral Data Frame to WN Neutral Table"
   ]
  },
  {
   "cell_type": "code",
   "execution_count": null,
   "metadata": {},
   "outputs": [],
   "source": [
    "#Create VX Neutral Table\n",
    "pg_engine.execute('CREATE TABLE \"VX_Neutral\" (\"tweet_id\" VARCHAR(100) PRIMARY KEY, \"airline_sentiment\" VARCHAR(10), \"airline_sentiment_confidence\" FLOAT, \"airline\" VARCHAR(2), \"name\" VARCHAR(50), \"retweet_count\" INT, \"text\" VARCHAR(300), \"tweet_date\" VARCHAR(10), \"tweet_time\" VARCHAR(5), FOREIGN KEY (\"airline\") REFERENCES \"Airlines\" (\"IATA_CODE\"));')"
   ]
  },
  {
   "cell_type": "code",
   "execution_count": null,
   "metadata": {},
   "outputs": [],
   "source": [
    "#Add VX Neutral Data Frame to VX Neutral Table"
   ]
  },
  {
   "cell_type": "code",
   "execution_count": null,
   "metadata": {},
   "outputs": [],
   "source": [
    "#Create UA Negative Table\n",
    "pg_engine.execute('CREATE TABLE \"UA_Negative\" (\"tweet_id\" VARCHAR(100) PRIMARY KEY, \"airline_sentiment\" VARCHAR(10), \"airline_sentiment_confidence\" FLOAT, \"airline\" VARCHAR(2), \"name\" VARCHAR(50), \"retweet_count\" INT, \"text\" VARCHAR(300), \"tweet_date\" VARCHAR(10), \"tweet_time\" VARCHAR(5), FOREIGN KEY (\"airline\") REFERENCES \"Airlines\" (\"IATA_CODE\"));')"
   ]
  },
  {
   "cell_type": "code",
   "execution_count": null,
   "metadata": {},
   "outputs": [],
   "source": [
    "#Add UA Negative Data Frame to UA Negative Table"
   ]
  },
  {
   "cell_type": "code",
   "execution_count": null,
   "metadata": {},
   "outputs": [],
   "source": [
    "#Create AA Negative Table\n",
    "pg_engine.execute('CREATE TABLE \"AA_Negative\" (\"tweet_id\" VARCHAR(100) PRIMARY KEY, \"airline_sentiment\" VARCHAR(10), \"airline_sentiment_confidence\" FLOAT, \"airline\" VARCHAR(2), \"name\" VARCHAR(50), \"retweet_count\" INT, \"text\" VARCHAR(300), \"tweet_date\" VARCHAR(10), \"tweet_time\" VARCHAR(5), FOREIGN KEY (\"airline\") REFERENCES \"Airlines\" (\"IATA_CODE\"));')"
   ]
  },
  {
   "cell_type": "code",
   "execution_count": null,
   "metadata": {},
   "outputs": [],
   "source": [
    "#Add AA Neutral Data Frame to AA Neutral Table"
   ]
  },
  {
   "cell_type": "code",
   "execution_count": null,
   "metadata": {},
   "outputs": [],
   "source": [
    "#Create DL Negative Table\n",
    "pg_engine.execute('CREATE TABLE \"DL_Negative\" (\"tweet_id\" VARCHAR(100) PRIMARY KEY, \"airline_sentiment\" VARCHAR(10), \"airline_sentiment_confidence\" FLOAT, \"airline\" VARCHAR(2), \"name\" VARCHAR(50), \"retweet_count\" INT, \"text\" VARCHAR(300), \"tweet_date\" VARCHAR(10), \"tweet_time\" VARCHAR(5), FOREIGN KEY (\"airline\") REFERENCES \"Airlines\" (\"IATA_CODE\"));')"
   ]
  },
  {
   "cell_type": "code",
   "execution_count": null,
   "metadata": {},
   "outputs": [],
   "source": [
    "#Add DL Neutral Data Frame to DL Neutral Table"
   ]
  },
  {
   "cell_type": "code",
   "execution_count": null,
   "metadata": {},
   "outputs": [],
   "source": [
    "#Create US Negative Table\n",
    "pg_engine.execute('CREATE TABLE \"US_Negative\" (\"tweet_id\" VARCHAR(100) PRIMARY KEY, \"airline_sentiment\" VARCHAR(10), \"airline_sentiment_confidence\" FLOAT, \"airline\" VARCHAR(2), \"name\" VARCHAR(50), \"retweet_count\" INT, \"text\" VARCHAR(300), \"tweet_date\" VARCHAR(10), \"tweet_time\" VARCHAR(5), FOREIGN KEY (\"airline\") REFERENCES \"Airlines\" (\"IATA_CODE\"));')"
   ]
  },
  {
   "cell_type": "code",
   "execution_count": null,
   "metadata": {},
   "outputs": [],
   "source": [
    "#Add US Neutral Data Frame to US Neutral Table"
   ]
  },
  {
   "cell_type": "code",
   "execution_count": null,
   "metadata": {},
   "outputs": [],
   "source": [
    "#Create WN Negative Table\n",
    "pg_engine.execute('CREATE TABLE \"WN_Negative\" (\"tweet_id\" VARCHAR(100) PRIMARY KEY, \"airline_sentiment\" VARCHAR(10), \"airline_sentiment_confidence\" FLOAT, \"airline\" VARCHAR(2), \"name\" VARCHAR(50), \"retweet_count\" INT, \"text\" VARCHAR(300), \"tweet_date\" VARCHAR(10), \"tweet_time\" VARCHAR(5), FOREIGN KEY (\"airline\") REFERENCES \"Airlines\" (\"IATA_CODE\"));')"
   ]
  },
  {
   "cell_type": "code",
   "execution_count": null,
   "metadata": {},
   "outputs": [],
   "source": [
    "#Add WN Neutral Data Frame to WN Neutral Table"
   ]
  },
  {
   "cell_type": "code",
   "execution_count": null,
   "metadata": {},
   "outputs": [],
   "source": [
    "#Create VX Negative Table\n",
    "pg_engine.execute('CREATE TABLE \"VX_Negative\" (\"tweet_id\" VARCHAR(100) PRIMARY KEY, \"airline_sentiment\" VARCHAR(10), \"airline_sentiment_confidence\" FLOAT, \"airline\" VARCHAR(2), \"name\" VARCHAR(50), \"retweet_count\" INT, \"text\" VARCHAR(300), \"tweet_date\" VARCHAR(10), \"tweet_time\" VARCHAR(5), FOREIGN KEY (\"airline\") REFERENCES \"Airlines\" (\"IATA_CODE\"));')"
   ]
  },
  {
   "cell_type": "code",
   "execution_count": null,
   "metadata": {},
   "outputs": [],
   "source": [
    "#Add VX Neutral Data Frame to VX Neutral Table"
   ]
  },
  {
   "cell_type": "markdown",
   "metadata": {},
   "source": [
    "# Project Analysis (Matt)"
   ]
  },
  {
   "cell_type": "markdown",
   "metadata": {},
   "source": [
    "The purpose of this project was to perform an Extract-Transform-Load (ETL) process on Feruary 2015 airline flight performance and customer tweets, based on datasets obtained from Kaggle. The SQLAlchemy and Pandas modules in Python were used to import, clean, and process the data, while the former was used to output the transformed data into an SQL database. Discussed below are the specific actions taken to perform each step of the ETL process."
   ]
  },
  {
   "cell_type": "markdown",
   "metadata": {},
   "source": [
    "## Data Extraction"
   ]
  },
  {
   "cell_type": "markdown",
   "metadata": {},
   "source": [
    "The extraction phase of the ETL process included importing and inspecting the data, with the latter including the identification all issues and inconsistencies with the source data. To begin, there were four files that needed to be imported, which included three CSV files and one SQLite database file. A Pandas data frame was created for each of the former, which contained flight, airline, and airport information respectively. Before importing the latter, a connection was established through the SQLite engine to the database file and the table name was exported. The tweet information table was then extracted from the database directly to a Pandas data frame for inspection.\n",
    "\n",
    "With the import process complete, the next step was to thoroughly inspect each of the data frames. Upon the completion of this process, several issues and inconsistencies were found. First, the date range of the customer tweet data was narrower than the date range of the flight performance data. Second, several columns in the flight information and tweet information data frames were missing large amounts of data. Third, the date and time values were not consistent between the flight and tweet information data frames. Fourth, the tweet information data frame contained fewer airlines than the flight information data frame. Finally, the latitude and longitude information for certain airports was incomplete in the airport information data frame."
   ]
  },
  {
   "cell_type": "markdown",
   "metadata": {},
   "source": [
    "## Data Transformation"
   ]
  },
  {
   "cell_type": "markdown",
   "metadata": {},
   "source": [
    "Having established the issues with the imported data, the first step in the transformation phase was to clean each of the data frames. This was a multi-step process for each data frame, starting with the flight information data frame. TBD"
   ]
  },
  {
   "cell_type": "markdown",
   "metadata": {},
   "source": [
    "## Data Loading"
   ]
  },
  {
   "cell_type": "markdown",
   "metadata": {},
   "source": [
    "TBD"
   ]
  },
  {
   "cell_type": "code",
   "execution_count": null,
   "metadata": {},
   "outputs": [],
   "source": []
  }
 ],
 "metadata": {
  "kernelspec": {
   "display_name": "Python 3",
   "language": "python",
   "name": "python3"
  },
  "language_info": {
   "codemirror_mode": {
    "name": "ipython",
    "version": 3
   },
   "file_extension": ".py",
   "mimetype": "text/x-python",
   "name": "python",
   "nbconvert_exporter": "python",
   "pygments_lexer": "ipython3",
   "version": "3.7.3"
  }
 },
 "nbformat": 4,
 "nbformat_minor": 2
}
